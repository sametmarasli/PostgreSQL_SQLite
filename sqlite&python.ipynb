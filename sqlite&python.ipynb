{
 "cells": [
  {
   "cell_type": "markdown",
   "metadata": {},
   "source": [
    "<a id='home'></a>"
   ]
  },
  {
   "cell_type": "markdown",
   "metadata": {},
   "source": [
    "# SQLite & Python"
   ]
  },
  {
   "cell_type": "markdown",
   "metadata": {},
   "source": [
    "This notebook consists of core concepts in SQL and their impelementation on SQLite database.\n",
    "The information and exercises on this notebook is solely based on  the course of Using Databases with Python by University of Michigan (Coursera) and it is created as a memo for myself."
   ]
  },
  {
   "cell_type": "markdown",
   "metadata": {
    "collapsed": true
   },
   "source": [
    "## Table of Contents\n",
    "- [1 Review of Object Oriented Programming](#1)\n",
    "- [2 Basic Structured Query Language](#2)\n",
    "- [3 Data Models and Relational SQL](#3)\n",
    "- [4 Many to Many Relationships in SQL](#4)"
   ]
  },
  {
   "cell_type": "markdown",
   "metadata": {},
   "source": [
    "<a id='1'></a>"
   ]
  },
  {
   "cell_type": "markdown",
   "metadata": {},
   "source": [
    "## 1 Review of Object Oriented Programming"
   ]
  },
  {
   "cell_type": "markdown",
   "metadata": {},
   "source": [
    "#### Example of Classes"
   ]
  },
  {
   "cell_type": "code",
   "execution_count": 1,
   "metadata": {
    "collapsed": false
   },
   "outputs": [
    {
     "name": "stdout",
     "output_type": "stream",
     "text": [
      "[]\n",
      "\n",
      "x is an instance(object) of the class list\n",
      "<type 'list'>\n",
      "\n",
      "the methods of list\n",
      "['__add__', '__class__', '__contains__', '__delattr__', '__delitem__', '__delslice__', '__doc__', '__eq__', '__format__', '__ge__', '__getattribute__', '__getitem__', '__getslice__', '__gt__', '__hash__', '__iadd__', '__imul__', '__init__', '__iter__', '__le__', '__len__', '__lt__', '__mul__', '__ne__', '__new__', '__reduce__', '__reduce_ex__', '__repr__', '__reversed__', '__rmul__', '__setattr__', '__setitem__', '__setslice__', '__sizeof__', '__str__', '__subclasshook__', 'append', 'count', 'extend', 'index', 'insert', 'pop', 'remove', 'reverse', 'sort']\n"
     ]
    }
   ],
   "source": [
    "#ex\n",
    "x = list()\n",
    "print x\n",
    "print '\\nx is an instance(object) of the class list'\n",
    "print type(x)\n",
    "print '\\nthe methods of list'\n",
    "print dir(x)  "
   ]
  },
  {
   "cell_type": "code",
   "execution_count": 2,
   "metadata": {
    "collapsed": false
   },
   "outputs": [
    {
     "name": "stdout",
     "output_type": "stream",
     "text": [
      "Hello world\n",
      "\n",
      "y is an instance of the class string\n",
      "<type 'str'>\n",
      "\n",
      "the methods of string\n",
      "['__add__', '__class__', '__contains__', '__delattr__', '__delitem__', '__delslice__', '__doc__', '__eq__', '__format__', '__ge__', '__getattribute__', '__getitem__', '__getslice__', '__gt__', '__hash__', '__iadd__', '__imul__', '__init__', '__iter__', '__le__', '__len__', '__lt__', '__mul__', '__ne__', '__new__', '__reduce__', '__reduce_ex__', '__repr__', '__reversed__', '__rmul__', '__setattr__', '__setitem__', '__setslice__', '__sizeof__', '__str__', '__subclasshook__', 'append', 'count', 'extend', 'index', 'insert', 'pop', 'remove', 'reverse', 'sort']\n"
     ]
    }
   ],
   "source": [
    "#ex \n",
    "y = 'Hello world'\n",
    "print y\n",
    "print '\\ny is an instance of the class string'\n",
    "print type(y)\n",
    "print '\\nthe methods of string'\n",
    "print dir(x)"
   ]
  },
  {
   "cell_type": "markdown",
   "metadata": {},
   "source": [
    "#### Create a Class"
   ]
  },
  {
   "cell_type": "code",
   "execution_count": 3,
   "metadata": {
    "collapsed": true
   },
   "outputs": [],
   "source": [
    "class PartyAnimal:\n",
    "\n",
    "    x = 0\n",
    "    name = ''\n",
    "    \n",
    "    def __init__(self,name):\n",
    "        self.name = name\n",
    "        print self.name,'constructed'\n",
    "\n",
    "    def party(self):\n",
    "        self.x = self.x+1\n",
    "        print self.name,'party count', self.x\n",
    "\n",
    "#     def __del__(self):\n",
    "#         print 'I am destructed', self.x"
   ]
  },
  {
   "cell_type": "code",
   "execution_count": 4,
   "metadata": {
    "collapsed": false
   },
   "outputs": [
    {
     "name": "stdout",
     "output_type": "stream",
     "text": [
      "Sally constructed\n",
      "Sally party count 1\n",
      "\n",
      "\n",
      "Jim constructed\n",
      "Jim party count 1\n",
      "Sally party count 2\n"
     ]
    }
   ],
   "source": [
    "s = PartyAnimal('Sally')\n",
    "s.party()\n",
    "print '\\n'\n",
    "j = PartyAnimal('Jim')\n",
    "j.party()\n",
    "s.party()"
   ]
  },
  {
   "cell_type": "code",
   "execution_count": 5,
   "metadata": {
    "collapsed": false
   },
   "outputs": [
    {
     "name": "stdout",
     "output_type": "stream",
     "text": [
      "Type: <type 'instance'>\n",
      "\n",
      "Methods: ['__doc__', '__init__', '__module__', 'name', 'party', 'x']\n",
      "\n",
      "2 Sally\n"
     ]
    }
   ],
   "source": [
    "print 'Type:', type(s)\n",
    "print '\\nMethods:', dir(s)\n",
    "print '\\n',s.x,s.name"
   ]
  },
  {
   "cell_type": "markdown",
   "metadata": {},
   "source": [
    "#### Inheritence"
   ]
  },
  {
   "cell_type": "code",
   "execution_count": 6,
   "metadata": {
    "collapsed": true
   },
   "outputs": [],
   "source": [
    "class FootballFan(PartyAnimal):\n",
    "    \n",
    "    points = 0\n",
    "    \n",
    "    def touchdown(self):\n",
    "        self.points = self.points + 7\n",
    "        self.party()\n",
    "        print self.name,'points',self.points"
   ]
  },
  {
   "cell_type": "code",
   "execution_count": 7,
   "metadata": {
    "collapsed": false
   },
   "outputs": [
    {
     "name": "stdout",
     "output_type": "stream",
     "text": [
      "Jim constructed\n",
      "Jim party count 1\n",
      "\n",
      "\n",
      "Jim party count 2\n",
      "Jim points 7\n"
     ]
    }
   ],
   "source": [
    "j = FootballFan('Jim')\n",
    "j.party()\n",
    "print '\\n'\n",
    "j.touchdown()"
   ]
  },
  {
   "cell_type": "code",
   "execution_count": 8,
   "metadata": {
    "collapsed": false
   },
   "outputs": [
    {
     "name": "stdout",
     "output_type": "stream",
     "text": [
      "Type: <type 'instance'>\n",
      "\n",
      "Methods: ['__doc__', '__init__', '__module__', 'name', 'party', 'points', 'touchdown', 'x']\n",
      "\n",
      "2 Jim 7\n"
     ]
    }
   ],
   "source": [
    "print 'Type:', type(j)\n",
    "print '\\nMethods:', dir(j)\n",
    "print '\\n',j.x,j.name,j.points"
   ]
  },
  {
   "cell_type": "markdown",
   "metadata": {},
   "source": [
    "[Home](#home)"
   ]
  },
  {
   "cell_type": "markdown",
   "metadata": {},
   "source": [
    "<a id='2'></a>"
   ]
  },
  {
   "cell_type": "markdown",
   "metadata": {},
   "source": [
    "## 2  Basic Structured Query Language - Single Table CRUD"
   ]
  },
  {
   "cell_type": "markdown",
   "metadata": {},
   "source": [
    "INSERT - The Insert statement inserts a row into a table\n",
    "\n",
    "    INSERT INTO Users (name, email) VALUES ('Kristin', 'kf@umich.edu')\n",
    "    \n",
    "DELETE - Deletes a row in a table based on a selection criteria\n",
    "\n",
    "    DELETE FROM  Users WHERE  email='ted@umich.edu'\n",
    "    \n",
    "UPDATE - Allows the updating of a field with a where clause\n",
    "\n",
    "    UPDATE Users SET name='Charles' WHERE email='csev@umich.edu'\n",
    "    \n",
    "SELECT - The select statement retrieves a group of records - you can either retrieve all the records or a subset of the records with a WHERE clause\n",
    "\n",
    "    SELECT * FROM Users \n",
    "    SELECT * FROM Users WHERE email='csev@umich.edu'\n",
    "\n",
    "ORDER BY - You can add an ORDER BY clause to SELECT statements to get the results sorted in ascending or descending order\n",
    "\n",
    "    SELECT * FROM Users ORDER BY email"
   ]
  },
  {
   "cell_type": "markdown",
   "metadata": {},
   "source": [
    "[Home](#home)"
   ]
  },
  {
   "cell_type": "markdown",
   "metadata": {},
   "source": [
    "<a id='3'></a>"
   ]
  },
  {
   "cell_type": "markdown",
   "metadata": {},
   "source": [
    "## 3 Data Models and Relational SQL"
   ]
  },
  {
   "cell_type": "markdown",
   "metadata": {},
   "source": [
    "#### Representing a Data Model in Tables\n",
    "\n",
    "    CREATE TABLE 'Artist' ( \n",
    "        'id' INTEGER NOT NULL PRIMARY KEY AUTOINCREMENT UNIQUE,\n",
    "        'name' TEXT\n",
    "        )\n",
    "\n",
    "    CREATE TABLE Genre ( \n",
    "        id INTEGER NOT NULL PRIMARY KEY AUTOINCREMENT UNIQUE, \n",
    "        name TEXT \n",
    "        )\n",
    "\n",
    "    CREATE TABLE Album ( \n",
    "        id INTEGER NOT NULL PRIMARY KEY AUTOINCREMENT UNIQUE, \n",
    "        artist_id INTEGER, \n",
    "        title TEXT \n",
    "        )\n",
    "        \n",
    "    CREATE TABLE Track ( \n",
    "        id INTEGER NOT NULL PRIMARY KEY AUTOINCREMENT UNIQUE, \n",
    "        title TEXT, \n",
    "        album_id INTEGER, \n",
    "        genre_id INTEGER, \n",
    "        len INTEGER, \n",
    "        rating INTEGER, \n",
    "        count INTEGER \n",
    "        )"
   ]
  },
  {
   "cell_type": "markdown",
   "metadata": {},
   "source": [
    "#### Inserting Relational Data\n",
    "\n",
    "    INSERT INTO Artist (name) VALUES ('Led Zepplin') ; \n",
    "    INSERT INTO Artist (name) VALUES ('AC/DC')\n",
    "   \n",
    "    INSERT INTO Genre (name) VALUES ('Rock') ;  \n",
    "    INSERT INTO Genre (name) VALUES ('Metal')\n",
    "\n",
    "    INSERT INTO Album (title, artist_id) VALUES ('Who Made Who', 2) ;\n",
    "    INSERT INTO Album (title, artist_id) VALUES ('IV', 1)\n",
    "    \n",
    "    INSERT INTO Track (title, rating, len, count, album_id, genre_id) VALUES ('Black Dog', 5, 297, 0, 2, 1) ; \n",
    "    INSERT INTO Track (title, rating, len, count, album_id, genre_id) VALUES ('Stairway', 5, 482, 0, 2, 1) ; \n",
    "    INSERT INTO Track (title, rating, len, count, album_id, genre_id) VALUES ('About to Rock', 5, 313, 0, 1, 2) ; \n",
    "    INSERT INTO Track (title, rating, len, count, album_id, genre_id) VALUES ('Who Made Who', 5, 207, 0, 1, 2)"
   ]
  },
  {
   "cell_type": "markdown",
   "metadata": {},
   "source": [
    "#### Reconstructing Data with JOIN\n",
    "\n",
    "    SELECT Album.title, Artist.name \n",
    "    FROM Album JOIN Artist ON Album.artist_id = Artist.id\n",
    "    \n",
    "    SELECT Album.title, Album.artist_id, Artist.id, Artist.name \n",
    "    FROM Album JOIN Artist ON Album.artist_id = Artist.id\n",
    "    \n",
    "    SELECT Track.title, Genre.name \n",
    "    FROM Track JOIN Genre ON Track.genre_id = Genre.id \n",
    "    \n",
    "    SELECT Track.title, Artist.name, Album.title, Genre.name \n",
    "    FROM Track JOIN Genre JOIN Album JOIN Artist ON Track.genre_id = Genre.id AND Track.album_id = Album.id AND Album.artist_id = Artist.id"
   ]
  },
  {
   "cell_type": "markdown",
   "metadata": {},
   "source": [
    "[Home](#home)"
   ]
  },
  {
   "cell_type": "markdown",
   "metadata": {},
   "source": [
    "<a id=4></a>"
   ]
  },
  {
   "cell_type": "markdown",
   "metadata": {},
   "source": [
    "## 4 Many to Many Relationships in SQL"
   ]
  },
  {
   "cell_type": "markdown",
   "metadata": {},
   "source": [
    "#### Create tables\n",
    "    CREATE TABLE User ( \n",
    "        id INTEGER NOT NULL PRIMARY KEY AUTOINCREMENT UNIQUE, \n",
    "        name TEXT UNIQUE, \n",
    "        email TEXT )\n",
    "    CREATE TABLE Course (\n",
    "        id INTEGER NOT NULL PRIMARY KEY AUTOINCREMENT UNIQUE, \n",
    "        title TEXT UNIQUE)\n",
    "    CREATE TABLE Member ( \n",
    "        user_id INTEGER, \n",
    "        course_id INTEGER, \n",
    "        role INTEGER, \n",
    "        PRIMARY KEY (user_id, course_id) )"
   ]
  },
  {
   "cell_type": "markdown",
   "metadata": {},
   "source": [
    "#### Put some data\n",
    "\n",
    "    INSERT INTO User (name, email) VALUES ('Jane', 'jane@tsugi.org'); \n",
    "    INSERT INTO User (name, email) VALUES ('Ed', 'ed@tsugi.org'); \n",
    "    INSERT INTO User (name, email) VALUES ('Sue', 'sue@tsugi.org'); \n",
    "\n",
    "    INSERT INTO Course (title) VALUES ('Python'); \n",
    "    INSERT INTO Course (title) VALUES ('SQL'); \n",
    "    INSERT INTO Course (title) VALUES ('PHP');"
   ]
  },
  {
   "cell_type": "markdown",
   "metadata": {},
   "source": [
    "#### Insert data to junksion(connector) table\n",
    "Role : 1 stands for instructur and 0 stands for student \n",
    "\n",
    "    INSERT INTO Member (user_id, course_id, role) VALUES (1, 1, 1); \n",
    "    INSERT INTO Member (user_id, course_id, role) VALUES (2, 1, 0); \n",
    "    INSERT INTO Member (user_id, course_id, role) VALUES (3, 1, 0); \n",
    "    INSERT INTO Member (user_id, course_id, role) VALUES (1, 2, 0); \n",
    "    INSERT INTO Member (user_id, course_id, role) VALUES (2, 2, 1); \n",
    "    INSERT INTO Member (user_id, course_id, role) VALUES (2, 3, 1); \n",
    "    INSERT INTO Member (user_id, course_id, role) VALUES (3, 3, 0);"
   ]
  },
  {
   "cell_type": "markdown",
   "metadata": {},
   "source": [
    "#### Ex : Create an enrollment record\n",
    "\n",
    "    SELECT User.name, Member.role, Course.title\n",
    "    FROM User JOIN Course JOIN Member\n",
    "    ON Member.user_id = User.id AND Member.course_id = Course.id\n",
    "    ORDER BY Course.title, Member.role, DESC, User.name"
   ]
  },
  {
   "cell_type": "markdown",
   "metadata": {},
   "source": [
    "## References\n",
    "\n",
    "http://www.pythonlearn.com/"
   ]
  },
  {
   "cell_type": "markdown",
   "metadata": {},
   "source": [
    "[Home](#home)"
   ]
  }
 ],
 "metadata": {
  "kernelspec": {
   "display_name": "Python [Root]",
   "language": "python",
   "name": "Python [Root]"
  },
  "language_info": {
   "codemirror_mode": {
    "name": "ipython",
    "version": 2
   },
   "file_extension": ".py",
   "mimetype": "text/x-python",
   "name": "python",
   "nbconvert_exporter": "python",
   "pygments_lexer": "ipython2",
   "version": "2.7.12"
  }
 },
 "nbformat": 4,
 "nbformat_minor": 0
}
