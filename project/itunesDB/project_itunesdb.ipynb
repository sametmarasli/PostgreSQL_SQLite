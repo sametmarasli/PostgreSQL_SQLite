{
 "cells": [
  {
   "cell_type": "markdown",
   "metadata": {},
   "source": [
    "<a id='home'></a>"
   ]
  },
  {
   "cell_type": "markdown",
   "metadata": {},
   "source": [
    "<a id='1'></a>"
   ]
  },
  {
   "cell_type": "markdown",
   "metadata": {},
   "source": [
    "# Project : Itunes DB"
   ]
  },
  {
   "cell_type": "markdown",
   "metadata": {},
   "source": [
    "In this small project, I build a PostgreSQL DB from the Itunes library which is an XML file. \n",
    "- The DB is manipulated by using psycopg2 library.\n",
    "- The DB and XML file is checked by queries executed directly from bash.\n",
    "\n",
    "The workflow is as following:\n",
    "\n",
    "1. First, the database and tables are initialized\n",
    "2. Second, the library file is parsed and converted to a format which is readeble by the psql\n",
    "3. Third, the data is inserted to the database's appropriate tables\n",
    "4. Finally, some interesting queries are made in order to have an idea about the data."
   ]
  },
  {
   "cell_type": "markdown",
   "metadata": {},
   "source": [
    "## Create the Database"
   ]
  },
  {
   "cell_type": "code",
   "execution_count": 1,
   "metadata": {
    "collapsed": false
   },
   "outputs": [
    {
     "name": "stdout",
     "output_type": "stream",
     "text": [
      "DROP DATABASE\r\n"
     ]
    }
   ],
   "source": [
    "!psql -c 'DROP DATABASE IF EXISTS itunes;' postgres"
   ]
  },
  {
   "cell_type": "code",
   "execution_count": 2,
   "metadata": {
    "collapsed": false
   },
   "outputs": [
    {
     "name": "stdout",
     "output_type": "stream",
     "text": [
      "CREATE DATABASE\r\n"
     ]
    }
   ],
   "source": [
    "! psql -c 'CREATE DATABASE itunes;' postgres"
   ]
  },
  {
   "cell_type": "code",
   "execution_count": 3,
   "metadata": {
    "collapsed": false,
    "scrolled": true
   },
   "outputs": [
    {
     "name": "stdout",
     "output_type": "stream",
     "text": [
      "                                  List of databases\r\n",
      "   Name    |  Owner   | Encoding |   Collate   |    Ctype    |   Access privileges   \r\n",
      "-----------+----------+----------+-------------+-------------+-----------------------\r\n",
      " itunes    | samet    | UTF8     | en_US.UTF-8 | en_US.UTF-8 | \r\n",
      " postgres  | postgres | UTF8     | en_US.UTF-8 | en_US.UTF-8 | \r\n",
      " template0 | postgres | UTF8     | en_US.UTF-8 | en_US.UTF-8 | =c/postgres          +\r\n",
      "           |          |          |             |             | postgres=CTc/postgres\r\n",
      " template1 | postgres | UTF8     | en_US.UTF-8 | en_US.UTF-8 | =c/postgres          +\r\n",
      "           |          |          |             |             | postgres=CTc/postgres\r\n",
      " testdb    | samet    | UTF8     | en_US.UTF-8 | en_US.UTF-8 | \r\n",
      "(5 rows)\r\n",
      "\r\n"
     ]
    }
   ],
   "source": [
    "# check the databases\n",
    "! psql -l"
   ]
  },
  {
   "cell_type": "markdown",
   "metadata": {},
   "source": [
    "## Create Tables"
   ]
  },
  {
   "cell_type": "code",
   "execution_count": 4,
   "metadata": {
    "collapsed": true
   },
   "outputs": [],
   "source": [
    "import psycopg2"
   ]
  },
  {
   "cell_type": "code",
   "execution_count": 5,
   "metadata": {
    "collapsed": false
   },
   "outputs": [],
   "source": [
    "con = psycopg2.connect(database='itunes', user='samet' , host='/var/run/postgresql/')  \n",
    "cur = con.cursor()\n",
    "\n",
    "cur.execute ('''\n",
    "DROP TABLE IF EXISTS Artist;\n",
    "DROP TABLE IF EXISTS Album;\n",
    "DROP TABLE IF EXISTS Track;\n",
    "\n",
    "CREATE TABLE Artist ( \n",
    "    id SERIAL PRIMARY KEY ,\n",
    "    name TEXT UNIQUE\n",
    ");\n",
    "\n",
    "CREATE TABLE Album ( \n",
    "    id SERIAL PRIMARY KEY, \n",
    "    artist_id INTEGER, \n",
    "    title TEXT UNIQUE\n",
    ");\n",
    "\n",
    "CREATE TABLE Track ( \n",
    "    id SERIAL PRIMARY KEY, \n",
    "    title TEXT UNIQUE, \n",
    "    album_id INTEGER, \n",
    "    len INTEGER, \n",
    "    rating INTEGER, \n",
    "    count INTEGER \n",
    ") ''' )  \n",
    "\n",
    "con.commit()  \n",
    "con.close()"
   ]
  },
  {
   "cell_type": "code",
   "execution_count": 6,
   "metadata": {
    "collapsed": false
   },
   "outputs": [
    {
     "name": "stdout",
     "output_type": "stream",
     "text": [
      "        List of relations\r\n",
      " Schema |  Name  | Type  | Owner \r\n",
      "--------+--------+-------+-------\r\n",
      " public | album  | table | samet\r\n",
      " public | artist | table | samet\r\n",
      " public | track  | table | samet\r\n",
      "(3 rows)\r\n",
      "\r\n"
     ]
    }
   ],
   "source": [
    "# check the tables\n",
    "! psql -c \"\\dt\" itunes"
   ]
  },
  {
   "cell_type": "markdown",
   "metadata": {},
   "source": [
    "## Check the XML file"
   ]
  },
  {
   "cell_type": "code",
   "execution_count": 7,
   "metadata": {
    "collapsed": false
   },
   "outputs": [
    {
     "name": "stdout",
     "output_type": "stream",
     "text": [
      "<?xml version=\"1.0\" encoding=\"UTF-8\"?>\r\n",
      "<!DOCTYPE plist PUBLIC \"-//Apple Computer//DTD PLIST 1.0//EN\" \"http://www.apple.com/DTDs/PropertyList-1.0.dtd\">\r\n",
      "<plist version=\"1.0\">\r\n",
      "<dict>\r\n",
      "\t<key>Major Version</key><integer>1</integer>\r\n",
      "\t<key>Minor Version</key><integer>1</integer>\r\n",
      "\t<key>Date</key><date>2015-11-24T11:12:10Z</date>\r\n",
      "\t<key>Application Version</key><string>12.3.1.23</string>\r\n",
      "\t<key>Features</key><integer>5</integer>\r\n",
      "\t<key>Show Content Ratings</key><true/>\r\n",
      "\t<key>Music Folder</key><string>file:///Users/csev/Music/iTunes/iTunes%20Music/</string>\r\n",
      "\t<key>Library Persistent ID</key><string>B7006C9E9799282E</string>\r\n",
      "\t<key>Tracks</key>\r\n",
      "\t<dict>\r\n",
      "\t\t<key>369</key>\r\n",
      "\t\t<dict>\r\n",
      "\t\t\t<key>Track ID</key><integer>369</integer>\r\n",
      "\t\t\t<key>Name</key><string>Another One Bites The Dust</string>\r\n",
      "\t\t\t<key>Artist</key><string>Queen</string>\r\n",
      "\t\t\t<key>Composer</key><string>John Deacon</string>\r\n",
      "\t\t\t<key>Album</key><string>Greatest Hits</string>\r\n",
      "\t\t\t<key>Genre</key><string>Rock</string>\r\n",
      "\t\t\t<key>Kind</key><string>MPEG audio file</string>\r\n",
      "\t\t\t<key>Size</key><integer>4344295</integer>\r\n",
      "\t\t\t<key>Total Time</key><integer>217103</integer>\r\n",
      "\t\t\t<key>Disc Number</key><integer>1</integer>\r\n",
      "\t\t\t<key>Disc Count</key><integer>1</integer>\r\n",
      "\t\t\t<key>Track Number</key><integer>3</integer>\r\n",
      "\t\t\t<key>Track Count</key><integer>17</integer>\r\n",
      "\t\t\t<key>Year</key><integer>1980</integer>\r\n",
      "\t\t\t<key>Date Modified</key><date>2006-02-14T16:13:02Z</date>\r\n",
      "\t\t\t<key>Date Added</key><date>2006-02-14T16:12:53Z</date>\r\n",
      "\t\t\t<key>Bit Rate</key><integer>160</integer>\r\n",
      "\t\t\t<key>Sample Rate</key><integer>44100</integer>\r\n",
      "\t\t\t<key>Play Count</key><integer>55</integer>\r\n",
      "\t\t\t<key>Play Date</key><integer>3518868190</integer>\r\n",
      "\t\t\t<key>Play Date UTC</key><date>2015-07-04T19:23:10Z</date>\r\n",
      "\t\t\t<key>Skip Count</key><integer>1</integer>\r\n",
      "\t\t\t<key>Skip Date</key><date>2015-10-14T23:31:47Z</date>\r\n",
      "\t\t\t<key>Rating</key><integer>100</integer>\r\n",
      "\t\t\t<key>Album Rating</key><integer>100</integer>\r\n",
      "\t\t\t<key>Album Rating Computed</key><true/>\r\n",
      "\t\t\t<key>Normalization</key><integer>1511</integer>\r\n",
      "\t\t\t<key>Compilation</key><true/>\r\n",
      "\t\t\t<key>Persistent ID</key><string>21130E105F3B8845</string>\r\n",
      "\t\t\t<key>Track Type</key><string>File</string>\r\n",
      "\t\t\t<key>File Type</key><integer>1297106739</integer>\r\n",
      "\t\t\t<key>Location</key><string>file:///Users/csev/Music/iTunes/iTunes%20Music/Compilations/Greatest%20Hits/03%20Another%20One%20Bites%20The%20Dust.mp3</string>\r\n",
      "\t\t\t<key>File Folder Count</key><integer>4</integer>\r\n",
      "\t\t\t<key>Library Folder Count</key><integer>1</integer>\r\n"
     ]
    }
   ],
   "source": [
    "! head -50 Library.xml"
   ]
  },
  {
   "cell_type": "markdown",
   "metadata": {},
   "source": [
    "## Parse the XML"
   ]
  },
  {
   "cell_type": "code",
   "execution_count": 8,
   "metadata": {
    "collapsed": true
   },
   "outputs": [],
   "source": [
    "import xml.etree.ElementTree as ET"
   ]
  },
  {
   "cell_type": "code",
   "execution_count": 9,
   "metadata": {
    "collapsed": true
   },
   "outputs": [],
   "source": [
    "def lookup(d, key):\n",
    "    found = False\n",
    "    for child in d:\n",
    "        if found : return child.text\n",
    "        if child.tag == 'key' and child.text == key :\n",
    "            found = True\n",
    "    return None"
   ]
  },
  {
   "cell_type": "code",
   "execution_count": 10,
   "metadata": {
    "collapsed": false
   },
   "outputs": [
    {
     "name": "stdout",
     "output_type": "stream",
     "text": [
      "Dict count: 404\n"
     ]
    }
   ],
   "source": [
    "fname = \"Library.xml\"\n",
    "stuff = ET.parse(fname)\n",
    "all = stuff.findall('dict/dict/dict')\n",
    "print 'Dict count:', len(all)"
   ]
  },
  {
   "cell_type": "markdown",
   "metadata": {},
   "source": [
    "## Insert Values to the DB"
   ]
  },
  {
   "cell_type": "code",
   "execution_count": 11,
   "metadata": {
    "collapsed": false
   },
   "outputs": [],
   "source": [
    "con = psycopg2.connect(database='itunes', user='samet' , host='/var/run/postgresql/')  \n",
    "cur = con.cursor()\n",
    "\n",
    "for entry in all:\n",
    "    if ( lookup(entry, 'Track ID') is None ) : continue\n",
    "\n",
    "    name = lookup(entry, 'Name')\n",
    "    artist = lookup(entry, 'Artist')\n",
    "    album = lookup(entry, 'Album')\n",
    "    count = lookup(entry, 'Play Count')\n",
    "    rating = lookup(entry, 'Rating')\n",
    "    length = lookup(entry, 'Total Time')\n",
    "    \n",
    "    if name is None or artist is None or album is None : \n",
    "        continue\n",
    "\n",
    "    cur.execute('''INSERT INTO Artist (name) \n",
    "        VALUES ( %s ) \n",
    "        ON CONFLICT DO NOTHING;''', ( artist, ) )\n",
    "    cur.execute('SELECT id FROM Artist WHERE name = (%s) ', (artist, ))\n",
    "    artist_id = cur.fetchone()[0]\n",
    "\n",
    "    cur.execute('''INSERT INTO Album (title, artist_id) \n",
    "        VALUES ( %s, %s ) \n",
    "        ON CONFLICT DO NOTHING;''', ( album, artist_id ) )\n",
    "    cur.execute('SELECT id FROM Album WHERE title = %s ', (album, ))\n",
    "    album_id = cur.fetchone()[0]\n",
    "\n",
    "    cur.execute('''INSERT INTO Track\n",
    "        (title, album_id, len, rating, count) \n",
    "        VALUES ( %s, %s, %s, %s, %s ) \n",
    "        ON CONFLICT (title)\n",
    "        DO UPDATE SET len = %s , rating= %s , count=%s \n",
    "        ;''', ( name, album_id, length, rating, count,length, rating, count) )\n",
    "\n",
    "    con.commit()\n"
   ]
  },
  {
   "cell_type": "markdown",
   "metadata": {},
   "source": [
    "## Queries"
   ]
  },
  {
   "cell_type": "markdown",
   "metadata": {},
   "source": [
    "#### Have a look"
   ]
  },
  {
   "cell_type": "code",
   "execution_count": 12,
   "metadata": {
    "collapsed": false
   },
   "outputs": [
    {
     "name": "stdout",
     "output_type": "stream",
     "text": [
      " id |           title            | album_id |  len   | rating | count \n",
      "----+----------------------------+----------+--------+--------+-------\n",
      "  1 | Another One Bites The Dust |        1 | 217103 |    100 |    55\n",
      "  2 | Asche Zu Asche             |        2 | 231810 |    100 |    79\n",
      "  3 | Beauty School Dropout      |        3 | 239960 |    100 |    48\n",
      "  4 | Black Dog                  |        4 | 296620 |    100 |   109\n",
      "  5 | Bring The Boys Back Home   |        5 |  87118 |    100 |    33\n",
      "(5 rows)\n",
      "\n",
      " id | artist_id |       title       \n",
      "----+-----------+-------------------\n",
      "  1 |         1 | Greatest Hits\n",
      "  2 |         2 | Herzeleid\n",
      "  3 |         3 | Grease\n",
      "  4 |         4 | IV\n",
      "  5 |         5 | The Wall [Disc 2]\n",
      "(5 rows)\n",
      "\n",
      " id |     name     \n",
      "----+--------------\n",
      "  1 | Queen\n",
      "  2 | Rammstein\n",
      "  3 | Various\n",
      "  4 | Led Zeppelin\n",
      "  5 | Pink Floyd\n",
      "(5 rows)\n",
      "\n"
     ]
    }
   ],
   "source": [
    "! psql -c \"SELECT * FROM Track LIMIT 5 \" itunes\n",
    "! psql -c \"SELECT * FROM Album LIMIT 5 \" itunes\n",
    "! psql -c \"SELECT * FROM Artist LIMIT 5 \" itunes"
   ]
  },
  {
   "cell_type": "markdown",
   "metadata": {},
   "source": [
    "#### SELECT & JOIN from psycopg2 and Pandas DataFrames"
   ]
  },
  {
   "cell_type": "code",
   "execution_count": 13,
   "metadata": {
    "collapsed": true
   },
   "outputs": [],
   "source": [
    "import pandas as pd"
   ]
  },
  {
   "cell_type": "code",
   "execution_count": 14,
   "metadata": {
    "collapsed": false,
    "scrolled": true
   },
   "outputs": [
    {
     "data": {
      "text/html": [
       "<div>\n",
       "<table border=\"1\" class=\"dataframe\">\n",
       "  <thead>\n",
       "    <tr style=\"text-align: right;\">\n",
       "      <th></th>\n",
       "      <th>album</th>\n",
       "      <th>artist</th>\n",
       "    </tr>\n",
       "  </thead>\n",
       "  <tbody>\n",
       "    <tr>\n",
       "      <th>0</th>\n",
       "      <td>Greatest Hits</td>\n",
       "      <td>Queen</td>\n",
       "    </tr>\n",
       "    <tr>\n",
       "      <th>1</th>\n",
       "      <td>Herzeleid</td>\n",
       "      <td>Rammstein</td>\n",
       "    </tr>\n",
       "    <tr>\n",
       "      <th>2</th>\n",
       "      <td>Grease</td>\n",
       "      <td>Various</td>\n",
       "    </tr>\n",
       "    <tr>\n",
       "      <th>3</th>\n",
       "      <td>IV</td>\n",
       "      <td>Led Zeppelin</td>\n",
       "    </tr>\n",
       "    <tr>\n",
       "      <th>4</th>\n",
       "      <td>The Wall [Disc 2]</td>\n",
       "      <td>Pink Floyd</td>\n",
       "    </tr>\n",
       "    <tr>\n",
       "      <th>5</th>\n",
       "      <td>Blues Is</td>\n",
       "      <td>Bryan Lee</td>\n",
       "    </tr>\n",
       "    <tr>\n",
       "      <th>6</th>\n",
       "      <td>Paranoid</td>\n",
       "      <td>Black Sabbath</td>\n",
       "    </tr>\n",
       "    <tr>\n",
       "      <th>7</th>\n",
       "      <td>Who Made Who</td>\n",
       "      <td>AC/DC</td>\n",
       "    </tr>\n",
       "    <tr>\n",
       "      <th>8</th>\n",
       "      <td>The Matrix Reloaded</td>\n",
       "      <td>Rob Dougan</td>\n",
       "    </tr>\n",
       "    <tr>\n",
       "      <th>9</th>\n",
       "      <td>Danger Zone</td>\n",
       "      <td>Billy Price</td>\n",
       "    </tr>\n",
       "  </tbody>\n",
       "</table>\n",
       "</div>"
      ],
      "text/plain": [
       "                 album         artist\n",
       "0        Greatest Hits          Queen\n",
       "1            Herzeleid      Rammstein\n",
       "2               Grease        Various\n",
       "3                   IV   Led Zeppelin\n",
       "4    The Wall [Disc 2]     Pink Floyd\n",
       "5             Blues Is      Bryan Lee\n",
       "6             Paranoid  Black Sabbath\n",
       "7         Who Made Who          AC/DC\n",
       "8  The Matrix Reloaded     Rob Dougan\n",
       "9          Danger Zone    Billy Price"
      ]
     },
     "execution_count": 14,
     "metadata": {},
     "output_type": "execute_result"
    }
   ],
   "source": [
    "with  psycopg2.connect(database='itunes', user='samet' , host='/var/run/postgresql/')  as con:\n",
    "    \n",
    "    cur = con.cursor()\n",
    "\n",
    "    query = '''\n",
    "    SELECT Album.title, Artist.name \n",
    "    FROM Album JOIN Artist ON Album.artist_id = Artist.id\n",
    "    LIMIT 10'''\n",
    "\n",
    "    cur.execute(query)   \n",
    "    df = pd.DataFrame(cur.fetchall(),columns = ['album','artist'])\n",
    "\n",
    "df "
   ]
  },
  {
   "cell_type": "markdown",
   "metadata": {},
   "source": [
    "#### SELECT & JOIN from psycopg2 with a Dictionary Cursor"
   ]
  },
  {
   "cell_type": "code",
   "execution_count": 15,
   "metadata": {
    "collapsed": true
   },
   "outputs": [],
   "source": [
    "import psycopg2.extras"
   ]
  },
  {
   "cell_type": "code",
   "execution_count": 17,
   "metadata": {
    "collapsed": false
   },
   "outputs": [
    {
     "name": "stdout",
     "output_type": "stream",
     "text": [
      "Album                Artist               Track\n",
      "---------------------------------------------------------------------------\n",
      "The Matrix Reloaded  Rob Dougan           Zion\n",
      "Who Made Who         AC/DC                You Shook Me All Night Long\n",
      "Greatest Hits        Queen                You're My Best Friend\n",
      "Hiding Place         Selah                You Raise Me Up\n",
      "Classic Hits         Jim Croce            You Don't Mess Around With Jim\n",
      "Blues Is             Bryan Lee            You Done Me Wrong\n",
      "Grease               Various              You are the One that I Want\n",
      "Warpaint             The Black Crowes     Wounded Bird\n",
      "Who's Next           The Who              Won't Get Fooled Again\n",
      "Herzeleid            Rammstein            Wollt Ihr Das Bett In Flammen Sehen\n"
     ]
    }
   ],
   "source": [
    "with psycopg2.connect(database='itunes', user='samet' , host='/var/run/postgresql/')  as con:\n",
    "\n",
    "    cur = con.cursor(cursor_factory=psycopg2.extras.DictCursor)\n",
    "    query = '''SELECT A.title as a_title, S.name  ,T.title as t_title\n",
    "                FROM Album as A, Artist as S, Track  as T\n",
    "                WHERE A.artist_id = S.id and T.album_id = A.id\n",
    "                ORDER BY t_title DESC\n",
    "                LIMIT 10'''\n",
    "    \n",
    "    cur.execute(query)  \n",
    "    rows = cur.fetchall()\n",
    "\n",
    "    print \"%-20s %-20s %s\" % ( 'Album','Artist','Track')\n",
    "    print '---------------------------------------------------------------------------'\n",
    "    for row in rows:\n",
    "        print \"%-20s %-20s %s\" % ( row['a_title'],row['name'],row['t_title'])"
   ]
  },
  {
   "cell_type": "markdown",
   "metadata": {},
   "source": [
    "[Home](#home)"
   ]
  }
 ],
 "metadata": {
  "kernelspec": {
   "display_name": "Python [Root]",
   "language": "python",
   "name": "Python [Root]"
  },
  "language_info": {
   "codemirror_mode": {
    "name": "ipython",
    "version": 2
   },
   "file_extension": ".py",
   "mimetype": "text/x-python",
   "name": "python",
   "nbconvert_exporter": "python",
   "pygments_lexer": "ipython2",
   "version": "2.7.12"
  }
 },
 "nbformat": 4,
 "nbformat_minor": 0
}
