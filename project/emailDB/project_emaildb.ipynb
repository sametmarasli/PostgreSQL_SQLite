{
 "cells": [
  {
   "cell_type": "markdown",
   "metadata": {},
   "source": [
    "<a id='home'></a>"
   ]
  },
  {
   "cell_type": "markdown",
   "metadata": {},
   "source": [
    "# Project : Email DB "
   ]
  },
  {
   "cell_type": "markdown",
   "metadata": {},
   "source": [
    "In this small project, I build a notebook which reads the mailbox data (mbox.txt) counts up the number email messages per organization (i.e. domain name of the email address) using a SQLite DB with the following schema to maintain the counts.\n",
    "\n",
    "- The DB is manipulated by using sqlite3 library.\n",
    "- The text file is checked by queries executed directly from bash.\n",
    "\n",
    "The workflow is as following:\n",
    "\n",
    "1. First, the database and tables are initialized\n",
    "2. Second, the mailbox data is sanity checked before updating the DB\n",
    "3. Third , the txt is parsed and converted to a format which is readeble by the sqlite. Later the data is inserted to the database's appropriate tables\n",
    "4. Finally, some interesting queries are made in order to have an idea about the data.\n",
    "\n"
   ]
  },
  {
   "cell_type": "markdown",
   "metadata": {},
   "source": [
    "## Create Database and Tables"
   ]
  },
  {
   "cell_type": "code",
   "execution_count": 1,
   "metadata": {
    "collapsed": true
   },
   "outputs": [],
   "source": [
    "import sqlite3\n",
    "\n",
    "con = sqlite3.connect('emaildb.db')\n",
    "cur = con.cursor()\n",
    "\n",
    "cur.execute('''\n",
    "DROP TABLE IF EXISTS Counts''')\n",
    "\n",
    "cur.execute('''\n",
    "CREATE TABLE Counts (org TEXT, count INTEGER)''')\n",
    "con.commit()\n",
    "con.close()"
   ]
  },
  {
   "cell_type": "markdown",
   "metadata": {},
   "source": [
    "## Check the Raw Email Text"
   ]
  },
  {
   "cell_type": "code",
   "execution_count": 2,
   "metadata": {
    "collapsed": false
   },
   "outputs": [
    {
     "name": "stdout",
     "output_type": "stream",
     "text": [
      "From stephen.marquard@uct.ac.za Sat Jan  5 09:14:16 2008\n",
      "Return-Path: <postmaster@collab.sakaiproject.org>\n",
      "Received: from murder (mail.umich.edu [141.211.14.90])\n",
      "\t by frankenstein.mail.umich.edu (Cyrus v2.3.8) with LMTPA;\n",
      "\t Sat, 05 Jan 2008 09:14:16 -0500\n",
      "X-Sieve: CMU Sieve 2.3\n",
      "Received: from murder ([unix socket])\n",
      "\t by mail.umich.edu (Cyrus v2.2.12) with LMTPA;\n",
      "\t Sat, 05 Jan 2008 09:14:16 -0500\n",
      "Received: from holes.mr.itd.umich.edu (holes.mr.itd.umich.edu [141.211.14.79])\n",
      "\tby flawless.mail.umich.edu () with ESMTP id m05EEFR1013674;\n",
      "\tSat, 5 Jan 2008 09:14:15 -0500\n",
      "Received: FROM paploo.uhi.ac.uk (app1.prod.collab.uhi.ac.uk [194.35.219.184])\n",
      "\tBY holes.mr.itd.umich.edu ID 477F90B0.2DB2F.12494 ; \n",
      "\t 5 Jan 2008 09:14:10 -0500\n",
      "Received: from paploo.uhi.ac.uk (localhost [127.0.0.1])\n",
      "\tby paploo.uhi.ac.uk (Postfix) with ESMTP id 5F919BC2F2;\n",
      "\tSat,  5 Jan 2008 14:10:05 +0000 (GMT)\n",
      "Message-ID: <200801051412.m05ECIaH010327@nakamura.uits.iupui.edu>\n",
      "Mime-Version: 1.0\n",
      "----\n",
      "X-DSPAM-Confidence: 0.9836\n",
      "X-DSPAM-Probability: 0.0000\n",
      "\n",
      "Details: http://source.sakaiproject.org/viewsvn/?view=rev&rev=37107\n",
      "\n",
      "Author: dlhaines@umich.edu\n",
      "Date: 2007-10-18 10:53:52 -0400 (Thu, 18 Oct 2007)\n",
      "New Revision: 37107\n",
      "\n",
      "Modified:\n",
      "ctools/trunk/builds/ctools_2-4/tools/applyPatches.pl\n",
      "Log:\n",
      "CTools: clean up applyPatches.pl\n",
      "\n",
      "----------------------\n",
      "This automatic notification message was sent by Sakai Collab (https://collab.sakaiproject.org/portal) from the Source site.\n",
      "You can modify how you receive notifications at My Workspace > Preferences.\n",
      "\n",
      "\n",
      "\n"
     ]
    }
   ],
   "source": [
    "!head -20 mbox.txt\n",
    "!echo '----'\n",
    "!tail -20 mbox.txt"
   ]
  },
  {
   "cell_type": "markdown",
   "metadata": {},
   "source": [
    "#### Use the grep function to print the lines with a matching pattern"
   ]
  },
  {
   "cell_type": "code",
   "execution_count": 3,
   "metadata": {
    "collapsed": false
   },
   "outputs": [
    {
     "name": "stdout",
     "output_type": "stream",
     "text": [
      "From: stephen.marquard@uct.ac.za\r\n",
      "From: louis@media.berkeley.edu\r\n",
      "From: zqian@umich.edu\r\n",
      "From: rjlowe@iupui.edu\r\n",
      "From: zqian@umich.edu\r\n",
      "From: rjlowe@iupui.edu\r\n",
      "From: cwen@iupui.edu\r\n",
      "From: cwen@iupui.edu\r\n",
      "From: gsilver@umich.edu\r\n",
      "From: gsilver@umich.edu\r\n",
      "From: zqian@umich.edu\r\n",
      "From: gsilver@umich.edu\r\n",
      "From: wagnermr@iupui.edu\r\n",
      "From: zqian@umich.edu\r\n",
      "From: antranig@caret.cam.ac.uk\r\n",
      "From: gopal.ramasammycook@gmail.com\r\n",
      "From: david.horwitz@uct.ac.za\r\n",
      "From: david.horwitz@uct.ac.za\r\n",
      "From: david.horwitz@uct.ac.za\r\n",
      "From: david.horwitz@uct.ac.za\r\n",
      "grep: write error: Broken pipe\r\n"
     ]
    }
   ],
   "source": [
    "! grep From: mbox.txt | head -20"
   ]
  },
  {
   "cell_type": "markdown",
   "metadata": {},
   "source": [
    "## Parse the Text and Update the DB"
   ]
  },
  {
   "cell_type": "code",
   "execution_count": 4,
   "metadata": {
    "collapsed": false
   },
   "outputs": [],
   "source": [
    "con = sqlite3.connect('emaildb.db')\n",
    "cur = con.cursor()\n",
    "\n",
    "fname = 'mbox.txt'\n",
    "\n",
    "fh = open(fname)\n",
    "\n",
    "\n",
    "for line in fh:\n",
    "    if not line.startswith('From: ') : continue\n",
    "    pieces = line.split()\n",
    "    email = pieces[1]\n",
    "    dom = email[email.find('@')+1:]\n",
    "    \n",
    "\n",
    "    \n",
    "    cur.execute('SELECT count FROM Counts WHERE org = ? ', (dom, ))\n",
    "    row = cur.fetchone()\n",
    "    \n",
    "    if row is None:\n",
    "        cur.execute('''INSERT INTO Counts (org, count) \n",
    "                VALUES ( ?, 1 )''', ( dom, ) )\n",
    "    else : \n",
    "        cur.execute('UPDATE Counts SET count = count+1 WHERE org = ?', \n",
    "            (dom, ))\n",
    "\n",
    "con.commit()\n",
    "con.close()"
   ]
  },
  {
   "cell_type": "markdown",
   "metadata": {},
   "source": [
    "## Check the Database"
   ]
  },
  {
   "cell_type": "code",
   "execution_count": 5,
   "metadata": {
    "collapsed": true
   },
   "outputs": [],
   "source": [
    "import pandas as pd"
   ]
  },
  {
   "cell_type": "code",
   "execution_count": 6,
   "metadata": {
    "collapsed": false
   },
   "outputs": [
    {
     "data": {
      "text/html": [
       "<div>\n",
       "<table border=\"1\" class=\"dataframe\">\n",
       "  <thead>\n",
       "    <tr style=\"text-align: right;\">\n",
       "      <th></th>\n",
       "      <th>Domain</th>\n",
       "      <th>Count</th>\n",
       "    </tr>\n",
       "  </thead>\n",
       "  <tbody>\n",
       "    <tr>\n",
       "      <th>0</th>\n",
       "      <td>iupui.edu</td>\n",
       "      <td>536</td>\n",
       "    </tr>\n",
       "    <tr>\n",
       "      <th>1</th>\n",
       "      <td>umich.edu</td>\n",
       "      <td>491</td>\n",
       "    </tr>\n",
       "    <tr>\n",
       "      <th>2</th>\n",
       "      <td>indiana.edu</td>\n",
       "      <td>178</td>\n",
       "    </tr>\n",
       "    <tr>\n",
       "      <th>3</th>\n",
       "      <td>caret.cam.ac.uk</td>\n",
       "      <td>157</td>\n",
       "    </tr>\n",
       "    <tr>\n",
       "      <th>4</th>\n",
       "      <td>vt.edu</td>\n",
       "      <td>110</td>\n",
       "    </tr>\n",
       "  </tbody>\n",
       "</table>\n",
       "</div>"
      ],
      "text/plain": [
       "            Domain  Count\n",
       "0        iupui.edu    536\n",
       "1        umich.edu    491\n",
       "2      indiana.edu    178\n",
       "3  caret.cam.ac.uk    157\n",
       "4           vt.edu    110"
      ]
     },
     "execution_count": 6,
     "metadata": {},
     "output_type": "execute_result"
    }
   ],
   "source": [
    "with sqlite3.connect('emaildb.db') as con:\n",
    "    cur = con.cursor()\n",
    "\n",
    "\n",
    "    sqlstr = 'SELECT org, count FROM Counts ORDER BY count DESC'\n",
    "    cur.execute(sqlstr)\n",
    "#     print \"Counts:\"\n",
    "#     for row in cur.execute(sqlstr) :\n",
    "#         print '%s %s' % (str(row[0]), row[1])\n",
    "    df =  pd.DataFrame(cur.fetchall(), columns=['Domain','Count'])\n",
    "\n",
    "df.head()"
   ]
  },
  {
   "cell_type": "markdown",
   "metadata": {},
   "source": [
    "## Extra :  Calculate the sum of domain names with bash"
   ]
  },
  {
   "cell_type": "code",
   "execution_count": 7,
   "metadata": {
    "collapsed": false
   },
   "outputs": [
    {
     "name": "stdout",
     "output_type": "stream",
     "text": [
      "wc -l command counts the lines of the grep function's results\n",
      "1797\n",
      "which is equal to: 1797\n"
     ]
    }
   ],
   "source": [
    "print \"wc -l command counts the lines of the grep function's results\"\n",
    "! grep From: mbox.txt| wc -l\n",
    "    \n",
    "print \"which is equal to: {}\".format(df.Count.sum())"
   ]
  },
  {
   "cell_type": "markdown",
   "metadata": {},
   "source": [
    "[Home](#home)"
   ]
  }
 ],
 "metadata": {
  "kernelspec": {
   "display_name": "Python [Root]",
   "language": "python",
   "name": "Python [Root]"
  },
  "language_info": {
   "codemirror_mode": {
    "name": "ipython",
    "version": 2
   },
   "file_extension": ".py",
   "mimetype": "text/x-python",
   "name": "python",
   "nbconvert_exporter": "python",
   "pygments_lexer": "ipython2",
   "version": "2.7.12"
  }
 },
 "nbformat": 4,
 "nbformat_minor": 0
}
