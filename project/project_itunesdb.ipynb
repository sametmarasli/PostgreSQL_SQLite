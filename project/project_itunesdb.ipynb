{
 "cells": [
  {
   "cell_type": "markdown",
   "metadata": {},
   "source": [
    "<a id='home'></a>"
   ]
  },
  {
   "cell_type": "markdown",
   "metadata": {},
   "source": [
    "<a id='1'></a>"
   ]
  },
  {
   "cell_type": "markdown",
   "metadata": {},
   "source": [
    "# Project : Itunes DB"
   ]
  },
  {
   "cell_type": "markdown",
   "metadata": {},
   "source": [
    "In this small project, I build a PostgreSQL DB from the Itunes library which is an XML file. \n",
    "- The DB is manipulated by using psycopg2 library.\n",
    "- The DB and XML file is checked by queries executed directly from bash.\n",
    "\n",
    "The workflow is as following:\n",
    "\n",
    "- First, the database and tables are initialized\n",
    "- Second, the library file is parsed and converted to a format which is readeble by the psql\n",
    "- Third, the data is inserted to the database's appropriate tables\n",
    "- (todo)Finally, some interesting queries are made in order to have an idea about the data."
   ]
  },
  {
   "cell_type": "markdown",
   "metadata": {},
   "source": [
    "#### Create the Database"
   ]
  },
  {
   "cell_type": "code",
   "execution_count": 1,
   "metadata": {
    "collapsed": false
   },
   "outputs": [
    {
     "name": "stdout",
     "output_type": "stream",
     "text": [
      "ERROR:  database \"itunes\" is being accessed by other users\r\n",
      "DETAIL:  There is 1 other session using the database.\r\n"
     ]
    }
   ],
   "source": [
    "!psql -c 'DROP DATABASE IF EXISTS itunes;' postgres"
   ]
  },
  {
   "cell_type": "code",
   "execution_count": 2,
   "metadata": {
    "collapsed": false
   },
   "outputs": [
    {
     "name": "stdout",
     "output_type": "stream",
     "text": [
      "ERROR:  database \"itunes\" already exists\r\n"
     ]
    }
   ],
   "source": [
    "! psql -c 'CREATE DATABASE itunes;' postgres"
   ]
  },
  {
   "cell_type": "code",
   "execution_count": 3,
   "metadata": {
    "collapsed": false,
    "scrolled": true
   },
   "outputs": [
    {
     "name": "stdout",
     "output_type": "stream",
     "text": [
      "                                  List of databases\r\n",
      "   Name    |  Owner   | Encoding |   Collate   |    Ctype    |   Access privileges   \r\n",
      "-----------+----------+----------+-------------+-------------+-----------------------\r\n",
      " itunes    | samet    | UTF8     | en_US.UTF-8 | en_US.UTF-8 | \r\n",
      " postgres  | postgres | UTF8     | en_US.UTF-8 | en_US.UTF-8 | \r\n",
      " template0 | postgres | UTF8     | en_US.UTF-8 | en_US.UTF-8 | =c/postgres          +\r\n",
      "           |          |          |             |             | postgres=CTc/postgres\r\n",
      " template1 | postgres | UTF8     | en_US.UTF-8 | en_US.UTF-8 | =c/postgres          +\r\n",
      "           |          |          |             |             | postgres=CTc/postgres\r\n",
      " testdb    | samet    | UTF8     | en_US.UTF-8 | en_US.UTF-8 | \r\n",
      "(5 rows)\r\n",
      "\r\n"
     ]
    }
   ],
   "source": [
    "# check the databases\n",
    "! psql -l"
   ]
  },
  {
   "cell_type": "markdown",
   "metadata": {},
   "source": [
    "#### Create Tables"
   ]
  },
  {
   "cell_type": "code",
   "execution_count": 4,
   "metadata": {
    "collapsed": true
   },
   "outputs": [],
   "source": [
    "import psycopg2"
   ]
  },
  {
   "cell_type": "code",
   "execution_count": 5,
   "metadata": {
    "collapsed": false
   },
   "outputs": [],
   "source": [
    "con = psycopg2.connect(database='itunes', user='samet' , host='/var/run/postgresql/')  \n",
    "cur = con.cursor()\n",
    "\n",
    "cur.execute ('''\n",
    "DROP TABLE IF EXISTS Artist;\n",
    "DROP TABLE IF EXISTS Album;\n",
    "DROP TABLE IF EXISTS Track;\n",
    "\n",
    "CREATE TABLE Artist ( \n",
    "    id SERIAL PRIMARY KEY ,\n",
    "    name TEXT UNIQUE\n",
    ");\n",
    "\n",
    "CREATE TABLE Album ( \n",
    "    id SERIAL PRIMARY KEY, \n",
    "    artist_id INTEGER, \n",
    "    title TEXT UNIQUE\n",
    ");\n",
    "\n",
    "CREATE TABLE Track ( \n",
    "    id SERIAL PRIMARY KEY, \n",
    "    title TEXT UNIQUE, \n",
    "    album_id INTEGER, \n",
    "    len INTEGER, \n",
    "    rating INTEGER, \n",
    "    count INTEGER \n",
    ") ''' )  \n",
    "\n",
    "con.commit()  \n",
    "con.close()"
   ]
  },
  {
   "cell_type": "code",
   "execution_count": 6,
   "metadata": {
    "collapsed": false
   },
   "outputs": [
    {
     "name": "stdout",
     "output_type": "stream",
     "text": [
      "        List of relations\r\n",
      " Schema |  Name  | Type  | Owner \r\n",
      "--------+--------+-------+-------\r\n",
      " public | album  | table | samet\r\n",
      " public | artist | table | samet\r\n",
      " public | track  | table | samet\r\n",
      "(3 rows)\r\n",
      "\r\n"
     ]
    }
   ],
   "source": [
    "# check the tables\n",
    "! psql -c \"\\dt\" itunes"
   ]
  },
  {
   "cell_type": "markdown",
   "metadata": {},
   "source": [
    "#### Check the XML file"
   ]
  },
  {
   "cell_type": "code",
   "execution_count": 7,
   "metadata": {
    "collapsed": false
   },
   "outputs": [
    {
     "name": "stdout",
     "output_type": "stream",
     "text": [
      "<?xml version=\"1.0\" encoding=\"UTF-8\"?>\r\n",
      "<!DOCTYPE plist PUBLIC \"-//Apple Computer//DTD PLIST 1.0//EN\" \"http://www.apple.com/DTDs/PropertyList-1.0.dtd\">\r\n",
      "<plist version=\"1.0\">\r\n",
      "<dict>\r\n",
      "\t<key>Major Version</key><integer>1</integer>\r\n",
      "\t<key>Minor Version</key><integer>1</integer>\r\n",
      "\t<key>Date</key><date>2015-11-24T11:12:10Z</date>\r\n",
      "\t<key>Application Version</key><string>12.3.1.23</string>\r\n",
      "\t<key>Features</key><integer>5</integer>\r\n",
      "\t<key>Show Content Ratings</key><true/>\r\n",
      "\t<key>Music Folder</key><string>file:///Users/csev/Music/iTunes/iTunes%20Music/</string>\r\n",
      "\t<key>Library Persistent ID</key><string>B7006C9E9799282E</string>\r\n",
      "\t<key>Tracks</key>\r\n",
      "\t<dict>\r\n",
      "\t\t<key>369</key>\r\n",
      "\t\t<dict>\r\n",
      "\t\t\t<key>Track ID</key><integer>369</integer>\r\n",
      "\t\t\t<key>Name</key><string>Another One Bites The Dust</string>\r\n",
      "\t\t\t<key>Artist</key><string>Queen</string>\r\n",
      "\t\t\t<key>Composer</key><string>John Deacon</string>\r\n",
      "\t\t\t<key>Album</key><string>Greatest Hits</string>\r\n",
      "\t\t\t<key>Genre</key><string>Rock</string>\r\n",
      "\t\t\t<key>Kind</key><string>MPEG audio file</string>\r\n",
      "\t\t\t<key>Size</key><integer>4344295</integer>\r\n",
      "\t\t\t<key>Total Time</key><integer>217103</integer>\r\n",
      "\t\t\t<key>Disc Number</key><integer>1</integer>\r\n",
      "\t\t\t<key>Disc Count</key><integer>1</integer>\r\n",
      "\t\t\t<key>Track Number</key><integer>3</integer>\r\n",
      "\t\t\t<key>Track Count</key><integer>17</integer>\r\n",
      "\t\t\t<key>Year</key><integer>1980</integer>\r\n",
      "\t\t\t<key>Date Modified</key><date>2006-02-14T16:13:02Z</date>\r\n",
      "\t\t\t<key>Date Added</key><date>2006-02-14T16:12:53Z</date>\r\n",
      "\t\t\t<key>Bit Rate</key><integer>160</integer>\r\n",
      "\t\t\t<key>Sample Rate</key><integer>44100</integer>\r\n",
      "\t\t\t<key>Play Count</key><integer>55</integer>\r\n",
      "\t\t\t<key>Play Date</key><integer>3518868190</integer>\r\n",
      "\t\t\t<key>Play Date UTC</key><date>2015-07-04T19:23:10Z</date>\r\n",
      "\t\t\t<key>Skip Count</key><integer>1</integer>\r\n",
      "\t\t\t<key>Skip Date</key><date>2015-10-14T23:31:47Z</date>\r\n",
      "\t\t\t<key>Rating</key><integer>100</integer>\r\n",
      "\t\t\t<key>Album Rating</key><integer>100</integer>\r\n",
      "\t\t\t<key>Album Rating Computed</key><true/>\r\n",
      "\t\t\t<key>Normalization</key><integer>1511</integer>\r\n",
      "\t\t\t<key>Compilation</key><true/>\r\n",
      "\t\t\t<key>Persistent ID</key><string>21130E105F3B8845</string>\r\n",
      "\t\t\t<key>Track Type</key><string>File</string>\r\n",
      "\t\t\t<key>File Type</key><integer>1297106739</integer>\r\n",
      "\t\t\t<key>Location</key><string>file:///Users/csev/Music/iTunes/iTunes%20Music/Compilations/Greatest%20Hits/03%20Another%20One%20Bites%20The%20Dust.mp3</string>\r\n",
      "\t\t\t<key>File Folder Count</key><integer>4</integer>\r\n",
      "\t\t\t<key>Library Folder Count</key><integer>1</integer>\r\n"
     ]
    }
   ],
   "source": [
    "! head -50 Library.xml"
   ]
  },
  {
   "cell_type": "markdown",
   "metadata": {},
   "source": [
    "#### Parse the XML"
   ]
  },
  {
   "cell_type": "code",
   "execution_count": 8,
   "metadata": {
    "collapsed": true
   },
   "outputs": [],
   "source": [
    "import xml.etree.ElementTree as ET"
   ]
  },
  {
   "cell_type": "code",
   "execution_count": 9,
   "metadata": {
    "collapsed": true
   },
   "outputs": [],
   "source": [
    "def lookup(d, key):\n",
    "    found = False\n",
    "    for child in d:\n",
    "        if found : return child.text\n",
    "        if child.tag == 'key' and child.text == key :\n",
    "            found = True\n",
    "    return None"
   ]
  },
  {
   "cell_type": "code",
   "execution_count": 10,
   "metadata": {
    "collapsed": false
   },
   "outputs": [
    {
     "name": "stdout",
     "output_type": "stream",
     "text": [
      "Dict count: 404\n"
     ]
    }
   ],
   "source": [
    "fname = \"Library.xml\"\n",
    "stuff = ET.parse(fname)\n",
    "all = stuff.findall('dict/dict/dict')\n",
    "print 'Dict count:', len(all)"
   ]
  },
  {
   "cell_type": "markdown",
   "metadata": {},
   "source": [
    "#### Insert Values to the DB"
   ]
  },
  {
   "cell_type": "code",
   "execution_count": 11,
   "metadata": {
    "collapsed": false
   },
   "outputs": [],
   "source": [
    "con = psycopg2.connect(database='itunes', user='samet' , host='/var/run/postgresql/')  \n",
    "cur = con.cursor()\n",
    "\n",
    "for entry in all:\n",
    "    if ( lookup(entry, 'Track ID') is None ) : continue\n",
    "\n",
    "    name = lookup(entry, 'Name')\n",
    "    artist = lookup(entry, 'Artist')\n",
    "    album = lookup(entry, 'Album')\n",
    "    count = lookup(entry, 'Play Count')\n",
    "    rating = lookup(entry, 'Rating')\n",
    "    length = lookup(entry, 'Total Time')\n",
    "    \n",
    "    if name is None or artist is None or album is None : \n",
    "        continue\n",
    "\n",
    "    cur.execute('''INSERT INTO Artist (name) \n",
    "        VALUES ( %s ) \n",
    "        ON CONFLICT DO NOTHING;''', ( artist, ) )\n",
    "    cur.execute('SELECT id FROM Artist WHERE name = (%s) ', (artist, ))\n",
    "    artist_id = cur.fetchone()[0]\n",
    "\n",
    "    cur.execute('''INSERT INTO Album (title, artist_id) \n",
    "        VALUES ( %s, %s ) \n",
    "        ON CONFLICT DO NOTHING;''', ( album, artist_id ) )\n",
    "    cur.execute('SELECT id FROM Album WHERE title = %s ', (album, ))\n",
    "    album_id = cur.fetchone()[0]\n",
    "\n",
    "    cur.execute('''INSERT INTO Track\n",
    "        (title, album_id, len, rating, count) \n",
    "        VALUES ( %s, %s, %s, %s, %s ) \n",
    "        ON CONFLICT (title)\n",
    "        DO UPDATE SET len = %s , rating= %s , count=%s \n",
    "        ;''', ( name, album_id, length, rating, count,length, rating, count) )\n",
    "\n",
    "    con.commit()\n"
   ]
  },
  {
   "cell_type": "code",
   "execution_count": 12,
   "metadata": {
    "collapsed": false
   },
   "outputs": [
    {
     "name": "stdout",
     "output_type": "stream",
     "text": [
      " id  |                     title                      | album_id |   len   | rating | count \r\n",
      "-----+------------------------------------------------+----------+---------+--------+-------\r\n",
      " 102 | A Boy Named Sue (live)                         |       95 |  226063 |        |    37\r\n",
      " 235 | A Brief History of Packets                     |      211 | 1004643 |        |      \r\n",
      " 124 | Aguas De Marco                                 |      118 |  179408 |        |   407\r\n",
      " 318 | Anant Agarwal                                  |      211 |  494000 |        |      \r\n",
      " 245 | Andrew S. Tanenbaum on MINIX                   |      211 |  603000 |        |      \r\n",
      " 212 | Andrew Tanenbaum: Writing the Book on Networks |      211 |  535040 |        |     4\r\n",
      " 293 | Anil Jain: 25 Years of Biometric Recognition   |      211 |  661368 |        |      \r\n",
      " 264 | An Interview with Don Waters                   |      264 | 1411082 |        |     2\r\n",
      "   1 | Another One Bites The Dust                     |        1 |  217103 |    100 |    55\r\n",
      "   2 | Asche Zu Asche                                 |        2 |  231810 |    100 |    79\r\n",
      "(10 rows)\r\n",
      "\r\n"
     ]
    }
   ],
   "source": [
    "# have a look\n",
    "! psql -c \"SELECT * FROM Track ORDER BY title LIMIT 10 \" itunes"
   ]
  },
  {
   "cell_type": "markdown",
   "metadata": {},
   "source": [
    "[Home](#home)"
   ]
  }
 ],
 "metadata": {
  "kernelspec": {
   "display_name": "Python [Root]",
   "language": "python",
   "name": "Python [Root]"
  },
  "language_info": {
   "codemirror_mode": {
    "name": "ipython",
    "version": 2
   },
   "file_extension": ".py",
   "mimetype": "text/x-python",
   "name": "python",
   "nbconvert_exporter": "python",
   "pygments_lexer": "ipython2",
   "version": "2.7.12"
  }
 },
 "nbformat": 4,
 "nbformat_minor": 0
}
