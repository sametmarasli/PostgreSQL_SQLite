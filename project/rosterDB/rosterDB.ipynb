{
 "cells": [
  {
   "cell_type": "markdown",
   "metadata": {},
   "source": [
    "<a id='home'></a>"
   ]
  },
  {
   "cell_type": "markdown",
   "metadata": {},
   "source": [
    "# Many to Many Relationships in SQL\n"
   ]
  },
  {
   "cell_type": "markdown",
   "metadata": {},
   "source": [
    "In this small project, I build a notebook which reads roster data in JSON format, parse the file, and then produce an SQLite DB that contains a User, Course, and Member table (junksion or connector table) and populate the tables from the data file.\n",
    "\n",
    "- The DB is manipulated by using sqlite3 library.\n",
    "- The JSON file is checked by queries executed directly from bash.\n",
    "\n",
    "The workflow is as following:\n",
    "\n",
    "1. First, the database and tables are initialized\n",
    "2. Second, the roster_data JSON file is sanity checked before updating the DB\n",
    "3. Third , the JSON is parsed and converted to a format which is readeble by the sqlite. Later the data is inserted to the database's appropriate tables\n",
    "4. Finally, the connector table is printed with the associated tables information in order to have an idea about the data."
   ]
  },
  {
   "cell_type": "markdown",
   "metadata": {},
   "source": [
    "## Create Database and Tables"
   ]
  },
  {
   "cell_type": "code",
   "execution_count": 1,
   "metadata": {
    "collapsed": false
   },
   "outputs": [],
   "source": [
    "import sqlite3\n",
    "\n",
    "con = sqlite3.connect('rosterdb.db')\n",
    "cur = con.cursor()\n",
    "\n",
    "cur.executescript('''\n",
    "DROP TABLE IF EXISTS User;\n",
    "DROP TABLE IF EXISTS Member;\n",
    "DROP TABLE IF EXISTS Course;\n",
    "\n",
    "CREATE TABLE User (\n",
    "    id     INTEGER NOT NULL PRIMARY KEY AUTOINCREMENT UNIQUE,\n",
    "    name   TEXT UNIQUE\n",
    ");\n",
    "\n",
    "CREATE TABLE Course (\n",
    "    id     INTEGER NOT NULL PRIMARY KEY AUTOINCREMENT UNIQUE,\n",
    "    title  TEXT UNIQUE\n",
    ");\n",
    "\n",
    "CREATE TABLE Member (\n",
    "    user_id     INTEGER,\n",
    "    course_id   INTEGER,\n",
    "    role        INTEGER,\n",
    "    PRIMARY KEY (user_id, course_id)\n",
    ") ''')\n",
    "\n",
    "con.commit()\n",
    "con.close()"
   ]
  },
  {
   "cell_type": "markdown",
   "metadata": {},
   "source": [
    "## Check the Raw JSON File"
   ]
  },
  {
   "cell_type": "code",
   "execution_count": 2,
   "metadata": {
    "collapsed": false
   },
   "outputs": [
    {
     "name": "stdout",
     "output_type": "stream",
     "text": [
      "[\r\n",
      "  [\r\n",
      "    \"Zunairah\",\r\n",
      "    \"si110\",\r\n",
      "    1\r\n",
      "  ],\r\n",
      "  [\r\n",
      "    \"Zion\",\r\n",
      "    \"si110\",\r\n",
      "    0\r\n",
      "  ],\r\n",
      "  [\r\n",
      "    \"Rachael\",\r\n",
      "    \"si110\",\r\n",
      "    0\r\n",
      "  ],\r\n",
      "  [\r\n",
      "    \"Rovia\",\r\n",
      "    \"si110\",\r\n",
      "    0\r\n"
     ]
    }
   ],
   "source": [
    "! head -20  roster_data.json"
   ]
  },
  {
   "cell_type": "markdown",
   "metadata": {},
   "source": [
    "## Parsing JSON"
   ]
  },
  {
   "cell_type": "code",
   "execution_count": 3,
   "metadata": {
    "collapsed": false
   },
   "outputs": [
    {
     "data": {
      "text/plain": [
       "[[u'Zunairah', u'si110', 1],\n",
       " [u'Zion', u'si110', 0],\n",
       " [u'Rachael', u'si110', 0],\n",
       " [u'Rovia', u'si110', 0],\n",
       " [u'Folarinwa', u'si110', 0],\n",
       " [u'Kyna', u'si110', 0],\n",
       " [u'Anayah', u'si110', 0],\n",
       " [u'Kierin', u'si110', 0],\n",
       " [u'Abel', u'si110', 0],\n",
       " [u'Yana', u'si110', 0]]"
      ]
     },
     "execution_count": 3,
     "metadata": {},
     "output_type": "execute_result"
    }
   ],
   "source": [
    "import json\n",
    "\n",
    "str_data = open('roster_data.json').read()\n",
    "\n",
    "json_data = json.loads(str_data)\n",
    "\n",
    "json_data[:10]"
   ]
  },
  {
   "cell_type": "markdown",
   "metadata": {},
   "source": [
    "## Insert values to the tables"
   ]
  },
  {
   "cell_type": "code",
   "execution_count": 4,
   "metadata": {
    "collapsed": true
   },
   "outputs": [],
   "source": [
    "con = sqlite3.connect('rosterdb.db')\n",
    "cur = con.cursor()\n",
    "\n",
    "for entry in json_data:\n",
    "\n",
    "    name = entry[0];\n",
    "    title = entry[1];\n",
    "    role = entry[2]\n",
    "\n",
    "    cur.execute('''INSERT OR IGNORE INTO User (name) \n",
    "        VALUES ( ? )''', ( name, ) )\n",
    "    cur.execute('SELECT id FROM User WHERE name = ? ', (name, ))\n",
    "    user_id = cur.fetchone()[0]\n",
    "\n",
    "    cur.execute('''INSERT OR IGNORE INTO Course (title) \n",
    "        VALUES ( ? )''', ( title, ) )\n",
    "    cur.execute('SELECT id FROM Course WHERE title = ? ', (title, ))\n",
    "    course_id = cur.fetchone()[0]\n",
    "\n",
    "    cur.execute('''INSERT OR REPLACE INTO Member\n",
    "        (user_id, course_id,role) VALUES ( ?, ?, ?  )''', \n",
    "        ( user_id, course_id,role  ) )\n",
    "\n",
    "    con.commit()\n"
   ]
  },
  {
   "cell_type": "markdown",
   "metadata": {},
   "source": [
    "#### The Connector Table"
   ]
  },
  {
   "cell_type": "code",
   "execution_count": 5,
   "metadata": {
    "collapsed": false
   },
   "outputs": [
    {
     "name": "stdout",
     "output_type": "stream",
     "text": [
      "      Name   Role     Title\n",
      "---------------------------------\n",
      "     Aaima     0      si106\n",
      "     Bowen     0      si106\n",
      "     Cally     0      si106\n",
      "     Darby     0      si106\n",
      "     Idris     0      si106\n",
      "      Inez     0      si106\n",
      "   Issiaka     0      si106\n",
      "  Izabella     0      si106\n",
      "     Jamal     0      si106\n",
      "    Kelsie     0      si106\n",
      "   Leechan     0      si106\n",
      "     Manal     0      si106\n",
      "     Matia     0      si106\n",
      "  Mercedez     0      si106\n",
      "  Mohammad     0      si106\n",
      "Pardeepraj     0      si106\n",
      "      Skie     0      si106\n",
      "  Stewarty     0      si106\n",
      "     Tarik     0      si106\n",
      "   Zakiyya     0      si106\n"
     ]
    }
   ],
   "source": [
    "query = '''SELECT User.name, Member.role, Course.title  \n",
    "    FROM User JOIN Member JOIN Course \n",
    "    ON User.id = Member.user_id AND Member.course_id = Course.id\n",
    "    ORDER BY Course.title,Member.role,User.name '''\n",
    "\n",
    "with sqlite3.connect('rosterdb.db') as con:\n",
    "    cur = con.cursor()\n",
    "    cur.execute(query)\n",
    "    lst = cur.fetchall()\n",
    "    print \"%10s %6s %9s\" %('Name', 'Role', 'Title')\n",
    "    print '---------------------------------'\n",
    "    for element in lst[:20]:\n",
    "        print \"%10s %5s %10s\" %element\n",
    "    "
   ]
  },
  {
   "cell_type": "markdown",
   "metadata": {},
   "source": [
    "[Home](#home)"
   ]
  }
 ],
 "metadata": {
  "kernelspec": {
   "display_name": "Python [Root]",
   "language": "python",
   "name": "Python [Root]"
  },
  "language_info": {
   "codemirror_mode": {
    "name": "ipython",
    "version": 2
   },
   "file_extension": ".py",
   "mimetype": "text/x-python",
   "name": "python",
   "nbconvert_exporter": "python",
   "pygments_lexer": "ipython2",
   "version": "2.7.12"
  }
 },
 "nbformat": 4,
 "nbformat_minor": 0
}
