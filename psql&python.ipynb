{
 "cells": [
  {
   "cell_type": "markdown",
   "metadata": {},
   "source": [
    "<a id='home'></a>"
   ]
  },
  {
   "cell_type": "markdown",
   "metadata": {},
   "source": [
    "## Table Of Contents\n",
    "\n",
    "- [Create Role and Database](#1)\n",
    "\n",
    "- [Version](#2)\n",
    "\n",
    "- [Inserting Data](#3)\n",
    "\n",
    "- [Retrieving Data](#4)\n",
    "\n",
    "- [The Dictionary Cursor](#5)\n",
    "\n",
    "- [Parameterized Queries](#6)\n",
    "\n",
    "- [Metadata](#7)\n",
    "\n",
    "- [Export and Import of Data](#8)\n",
    "\n",
    "- [](#)\n",
    "\n",
    "- [](#)\n",
    "\n",
    "- [](#)\n"
   ]
  },
  {
   "cell_type": "markdown",
   "metadata": {},
   "source": [
    "<a id='1'></a>"
   ]
  },
  {
   "cell_type": "markdown",
   "metadata": {},
   "source": [
    "# PostgreSQL & Python"
   ]
  },
  {
   "cell_type": "markdown",
   "metadata": {},
   "source": [
    "#### Create Role and Database  "
   ]
  },
  {
   "cell_type": "code",
   "execution_count": 1,
   "metadata": {
    "collapsed": false
   },
   "outputs": [
    {
     "name": "stdout",
     "output_type": "stream",
     "text": [
      "\u001b[0;1;32m●\u001b[0m postgresql.service - PostgreSQL RDBMS\r\n",
      "   Loaded: loaded (/lib/systemd/system/postgresql.service; enabled; vendor preset: enabled)\r\n",
      "   Active: \u001b[0;1;32mactive (exited)\u001b[0m since Cts 2017-01-21 22:21:52 +03; 1h 25min ago\r\n",
      "  Process: 2274 ExecStart=/bin/true (code=exited, status=0/SUCCESS)\r\n",
      " Main PID: 2274 (code=exited, status=0/SUCCESS)\r\n",
      "   CGroup: /system.slice/postgresql.service\r\n",
      "\r\n",
      "Oca 21 22:21:52 samet-UX305FA systemd[1]: Starting PostgreSQL RDBMS...\r\n",
      "Oca 21 22:21:52 samet-UX305FA systemd[1]: Started PostgreSQL RDBMS.\r\n"
     ]
    }
   ],
   "source": [
    "# Check if the PostgreSQL server is running \n",
    "!service postgresql status"
   ]
  },
  {
   "cell_type": "markdown",
   "metadata": {},
   "source": [
    "Connect as postgres user and check the users and databases\n",
    "\n",
    "    $ sudo su - postgres\n",
    "    \n",
    "    $ \\du\n",
    "\n",
    "Create a new role in the PostgreSQL system with the ability to create new databases.\n",
    "\n",
    "    $ sudo -u postgres createuser samet\n",
    "    \n",
    "Create a new database with the owner samet\n",
    "\n",
    "    $ sudo -u postgres createdb testdb -O samet"
   ]
  },
  {
   "cell_type": "code",
   "execution_count": 2,
   "metadata": {
    "collapsed": false
   },
   "outputs": [
    {
     "name": "stdout",
     "output_type": "stream",
     "text": [
      "                                  List of databases\r\n",
      "   Name    |  Owner   | Encoding |   Collate   |    Ctype    |   Access privileges   \r\n",
      "-----------+----------+----------+-------------+-------------+-----------------------\r\n",
      " postgres  | postgres | UTF8     | en_US.UTF-8 | en_US.UTF-8 | \r\n",
      " template0 | postgres | UTF8     | en_US.UTF-8 | en_US.UTF-8 | =c/postgres          +\r\n",
      "           |          |          |             |             | postgres=CTc/postgres\r\n",
      " template1 | postgres | UTF8     | en_US.UTF-8 | en_US.UTF-8 | =c/postgres          +\r\n",
      "           |          |          |             |             | postgres=CTc/postgres\r\n",
      " testdb    | samet    | UTF8     | en_US.UTF-8 | en_US.UTF-8 | \r\n",
      "(4 rows)\r\n",
      "\r\n"
     ]
    }
   ],
   "source": [
    "# see all databases\n",
    "!psql -l"
   ]
  },
  {
   "cell_type": "markdown",
   "metadata": {},
   "source": [
    "[Home](#home)"
   ]
  },
  {
   "cell_type": "markdown",
   "metadata": {},
   "source": [
    "<a id='2'></a>"
   ]
  },
  {
   "cell_type": "markdown",
   "metadata": {},
   "source": [
    "## Version"
   ]
  },
  {
   "cell_type": "markdown",
   "metadata": {},
   "source": [
    "The Python script below connects to the previosly created testdb database and executes an SQL statement which returns the version of the PostgreSQL database. "
   ]
  },
  {
   "cell_type": "code",
   "execution_count": 25,
   "metadata": {
    "collapsed": false
   },
   "outputs": [
    {
     "name": "stdout",
     "output_type": "stream",
     "text": [
      "('PostgreSQL 9.5.5 on x86_64-pc-linux-gnu, compiled by gcc (Ubuntu 5.3.1-14ubuntu2) 5.3.1 20160413, 64-bit',)\n"
     ]
    }
   ],
   "source": [
    "import psycopg2\n",
    "import sys\n",
    "\n",
    "con = None \n",
    "# Initialize the con variable to None in order not to lead to an error in the finally clause.\n",
    "try:    \n",
    "    con = psycopg2.connect(database='testdb', user='samet' , host='/var/run/postgresql/')  \n",
    "    # The connect() method creates a new database session and returns a connection object.  \n",
    "    cur = con.cursor()\n",
    "    # From the connection, get the cursor object. The cursor is used to traverse the records from the result set. \n",
    "    cur.execute('SELECT version()')  \n",
    "    # Call the execute() method of the cursor and execute the SQL statement.       \n",
    "    ver = cur.fetchone() \n",
    "    # Fetch the data and since only one record is retrieved, call the fetchone() method. \n",
    "    print ver    \n",
    "\n",
    "except psycopg2.DatabaseError, e:\n",
    "    print 'Error %s' % e    \n",
    "    sys.exit(1)\n",
    "     \n",
    "finally:    \n",
    "    if con:\n",
    "        con.close()"
   ]
  },
  {
   "cell_type": "markdown",
   "metadata": {},
   "source": [
    "[Home](#home)"
   ]
  },
  {
   "cell_type": "markdown",
   "metadata": {},
   "source": [
    "<a id='3'></a>"
   ]
  },
  {
   "cell_type": "markdown",
   "metadata": {},
   "source": [
    "## Inserting Data"
   ]
  },
  {
   "cell_type": "markdown",
   "metadata": {},
   "source": [
    "Create a Cars table and insert several rows to it."
   ]
  },
  {
   "cell_type": "code",
   "execution_count": 4,
   "metadata": {
    "collapsed": false
   },
   "outputs": [
    {
     "name": "stdout",
     "output_type": "stream",
     "text": [
      "DROP TABLE\r\n"
     ]
    }
   ],
   "source": [
    "!psql -c 'DROP TABLE IF EXISTS Cars' testdb"
   ]
  },
  {
   "cell_type": "code",
   "execution_count": 5,
   "metadata": {
    "collapsed": false
   },
   "outputs": [],
   "source": [
    "con = None\n",
    "\n",
    "try:    \n",
    "    con = psycopg2.connect(database='testdb', user='samet' , host='/var/run/postgresql/')  \n",
    "    cur = con.cursor()\n",
    "    \n",
    "    cur.execute(\"CREATE TABLE Cars(Id INTEGER PRIMARY KEY, Name VARCHAR(20), Price INT)\")\n",
    "    cur.execute(\"INSERT INTO Cars VALUES(1,'Audi',52642)\")\n",
    "    cur.execute(\"INSERT INTO Cars VALUES(2,'Mercedes',57127)\")\n",
    "    cur.execute(\"INSERT INTO Cars VALUES(3,'Skoda',9000)\")\n",
    "    cur.execute(\"INSERT INTO Cars VALUES(4,'Volvo',29000)\")\n",
    "    cur.execute(\"INSERT INTO Cars VALUES(5,'Bentley',350000)\")\n",
    "    cur.execute(\"INSERT INTO Cars VALUES(6,'Citroen',21000)\")\n",
    "    cur.execute(\"INSERT INTO Cars VALUES(7,'Hummer',41400)\")\n",
    "    cur.execute(\"INSERT INTO Cars VALUES(%s, %s, %s)\",(8,'Volkswagen',21600))    \n",
    "    # a different way to insert\n",
    "    con.commit()\n",
    "    \n",
    "except psycopg2.DatabaseError, e:\n",
    "    if con:\n",
    "        con.rollback()\n",
    "        # In case of an error, roll back any possible changes to the database table\n",
    "    print 'Error %s' % e    \n",
    "    sys.exit()\n",
    "\n",
    "finally:    \n",
    "    if con: con.close()"
   ]
  },
  {
   "cell_type": "code",
   "execution_count": 6,
   "metadata": {
    "collapsed": false
   },
   "outputs": [
    {
     "name": "stdout",
     "output_type": "stream",
     "text": [
      "       List of relations\n",
      " Schema | Name | Type  | Owner \n",
      "--------+------+-------+-------\n",
      " public | cars | table | samet\n",
      "(1 row)\n",
      "\n",
      "            Table \"public.cars\"\n",
      " Column |         Type          | Modifiers \n",
      "--------+-----------------------+-----------\n",
      " id     | integer               | not null\n",
      " name   | character varying(20) | \n",
      " price  | integer               | \n",
      "Indexes:\n",
      "    \"cars_pkey\" PRIMARY KEY, btree (id)\n",
      "\n"
     ]
    }
   ],
   "source": [
    "# check the tables created in the database\n",
    "!psql -c '\\dt' testdb \n",
    "# describe the table\n",
    "!psql -c '\\d Cars' testdb"
   ]
  },
  {
   "cell_type": "code",
   "execution_count": 7,
   "metadata": {
    "collapsed": false
   },
   "outputs": [
    {
     "name": "stdout",
     "output_type": "stream",
     "text": [
      " id |    name    | price  \r\n",
      "----+------------+--------\r\n",
      "  1 | Audi       |  52642\r\n",
      "  2 | Mercedes   |  57127\r\n",
      "  3 | Skoda      |   9000\r\n",
      "  4 | Volvo      |  29000\r\n",
      "  5 | Bentley    | 350000\r\n",
      "  6 | Citroen    |  21000\r\n",
      "  7 | Hummer     |  41400\r\n",
      "  8 | Volkswagen |  21600\r\n",
      "(8 rows)\r\n",
      "\r\n"
     ]
    }
   ],
   "source": [
    "# check the table\n",
    "!psql -c 'SELECT * FROM Cars' testdb"
   ]
  },
  {
   "cell_type": "markdown",
   "metadata": {},
   "source": [
    "Create the same table but this time using the convenience executemany() method. "
   ]
  },
  {
   "cell_type": "code",
   "execution_count": 8,
   "metadata": {
    "collapsed": false
   },
   "outputs": [],
   "source": [
    "cars = (\n",
    "    (1, 'Audi', 52642),\n",
    "    (2, 'Mercedes', 57127),\n",
    "    (3, 'Skoda', 9000),\n",
    "    (4, 'Volvo', 29000),\n",
    "    (5, 'Bentley', 350000),\n",
    "    (6, 'Citroen', 21000),\n",
    "    (7, 'Hummer', 41400),\n",
    "    (8, 'Volkswagen', 21600))\n",
    "\n",
    "con = None\n",
    "\n",
    "try:    \n",
    "    con = psycopg2.connect(database='testdb', user='samet' , host='/var/run/postgresql/')  \n",
    "    cur = con.cursor()\n",
    "    \n",
    "    cur.execute(\"DROP TABLE IF EXISTS Cars\")\n",
    "    cur.execute(\"CREATE TABLE Cars(Id INT PRIMARY KEY, Name TEXT, Price INT)\")\n",
    "    query = \"INSERT INTO Cars (Id, Name, Price) VALUES (%s, %s, %s)\"\n",
    "    cur.executemany(query, cars)\n",
    "    # The first parameter of this method is a parameterized SQL statement. \n",
    "    # The second parameter is the data, in the form of tuple of tuples.\n",
    "    con.commit()\n",
    "    \n",
    "except psycopg2.DatabaseError, e:    \n",
    "    if con:\n",
    "        con.rollback()    \n",
    "    print 'Error %s' % e    \n",
    "    sys.exit(1)        \n",
    "finally:   \n",
    "    if con: con.close()"
   ]
  },
  {
   "cell_type": "markdown",
   "metadata": {},
   "source": [
    "Check https://nelsonslog.wordpress.com/2015/04/27/inserting-lots-of-data-into-a-remote-postgres-efficiently/ for a faster implementation of executemany."
   ]
  },
  {
   "cell_type": "code",
   "execution_count": 9,
   "metadata": {
    "collapsed": false
   },
   "outputs": [
    {
     "name": "stdout",
     "output_type": "stream",
     "text": [
      " id |    name    | price  \r\n",
      "----+------------+--------\r\n",
      "  1 | Audi       |  52642\r\n",
      "  2 | Mercedes   |  57127\r\n",
      "  3 | Skoda      |   9000\r\n",
      "  4 | Volvo      |  29000\r\n",
      "  5 | Bentley    | 350000\r\n",
      "  6 | Citroen    |  21000\r\n",
      "  7 | Hummer     |  41400\r\n",
      "  8 | Volkswagen |  21600\r\n",
      "(8 rows)\r\n",
      "\r\n"
     ]
    }
   ],
   "source": [
    "# check the table\n",
    "!psql -c 'SELECT * FROM Cars' testdb"
   ]
  },
  {
   "cell_type": "markdown",
   "metadata": {},
   "source": [
    "[Home](#home)"
   ]
  },
  {
   "cell_type": "markdown",
   "metadata": {},
   "source": [
    "<a id='4'></a>"
   ]
  },
  {
   "cell_type": "markdown",
   "metadata": {},
   "source": [
    "## Retrieving Data"
   ]
  },
  {
   "cell_type": "markdown",
   "metadata": {
    "collapsed": true
   },
   "source": [
    "After inserting some data into the database, lets retrieve it back. "
   ]
  },
  {
   "cell_type": "code",
   "execution_count": 10,
   "metadata": {
    "collapsed": false
   },
   "outputs": [
    {
     "name": "stdout",
     "output_type": "stream",
     "text": [
      "[(1, 'Audi', 52642), (2, 'Mercedes', 57127), (3, 'Skoda', 9000), (4, 'Volvo', 29000), (5, 'Bentley', 350000), (6, 'Citroen', 21000), (7, 'Hummer', 41400), (8, 'Volkswagen', 21600)]\n",
      "\n",
      "(1, 'Audi', 52642)\n",
      "(2, 'Mercedes', 57127)\n",
      "(3, 'Skoda', 9000)\n",
      "(4, 'Volvo', 29000)\n",
      "(5, 'Bentley', 350000)\n",
      "(6, 'Citroen', 21000)\n",
      "(7, 'Hummer', 41400)\n",
      "(8, 'Volkswagen', 21600)\n"
     ]
    }
   ],
   "source": [
    "con = None\n",
    "\n",
    "try:    \n",
    "    con = psycopg2.connect(database='testdb', user='samet' , host='/var/run/postgresql/')  \n",
    "    cur = con.cursor()\n",
    "    \n",
    "    cur.execute(\"SELECT * FROM Cars\")\n",
    "    \n",
    "    rows = cur.fetchall()\n",
    "    print rows\n",
    "    # returns list of tuples\n",
    "    print \n",
    "    for row in rows:\n",
    "        print row\n",
    "        \n",
    "except psycopg2.DatabaseError, e:\n",
    "    print 'Error %s' % e    \n",
    "    sys.exit(1)    \n",
    "finally:    \n",
    "    if con: con.close()"
   ]
  },
  {
   "cell_type": "markdown",
   "metadata": {},
   "source": [
    "Connect to the database and fetch the rows of the Cars table one by one. "
   ]
  },
  {
   "cell_type": "code",
   "execution_count": 11,
   "metadata": {
    "collapsed": false
   },
   "outputs": [
    {
     "name": "stdout",
     "output_type": "stream",
     "text": [
      "1 Audi 52642\n",
      "2 Mercedes 57127\n",
      "3 Skoda 9000\n",
      "4 Volvo 29000\n",
      "5 Bentley 350000\n",
      "6 Citroen 21000\n",
      "7 Hummer 41400\n",
      "8 Volkswagen 21600\n"
     ]
    }
   ],
   "source": [
    "con = None\n",
    "\n",
    "try:    \n",
    "    con = psycopg2.connect(database='testdb', user='samet' , host='/var/run/postgresql/')  \n",
    "    cur = con.cursor()\n",
    "    \n",
    "    cur.execute(\"SELECT * FROM Cars\")\n",
    "\n",
    "    while True:      \n",
    "        row = cur.fetchone()        \n",
    "        if row == None:\n",
    "            break            \n",
    "        print row[0], row[1], row[2]\n",
    "        \n",
    "except psycopg2.DatabaseError, e:\n",
    "    print 'Error %s' % e    \n",
    "    sys.exit(1)\n",
    "finally:    \n",
    "    if con: con.close()\n"
   ]
  },
  {
   "cell_type": "markdown",
   "metadata": {},
   "source": [
    "[Home](#home)"
   ]
  },
  {
   "cell_type": "markdown",
   "metadata": {},
   "source": [
    "<a id='5'></a>"
   ]
  },
  {
   "cell_type": "markdown",
   "metadata": {},
   "source": [
    "#### The Dictionary Cursor"
   ]
  },
  {
   "cell_type": "markdown",
   "metadata": {},
   "source": [
    "The default cursor returns the data in a list of tuples. The dict cursors allow to access to the retrieved records using an interface similar to the Python dictionaries instead of the tuples. This way the data can be refered by their column names. "
   ]
  },
  {
   "cell_type": "code",
   "execution_count": 12,
   "metadata": {
    "collapsed": false
   },
   "outputs": [
    {
     "name": "stdout",
     "output_type": "stream",
     "text": [
      "[[1, 'Audi', 52642], [2, 'Mercedes', 57127], [3, 'Skoda', 9000], [4, 'Volvo', 29000], [5, 'Bentley', 350000], [6, 'Citroen', 21000], [7, 'Hummer', 41400], [8, 'Volkswagen', 21600]]\n",
      "\n",
      "1 Audi 52642\n",
      "2 Mercedes 57127\n",
      "3 Skoda 9000\n",
      "4 Volvo 29000\n",
      "5 Bentley 350000\n",
      "6 Citroen 21000\n",
      "7 Hummer 41400\n",
      "8 Volkswagen 21600\n"
     ]
    }
   ],
   "source": [
    "import psycopg2.extras\n",
    "\n",
    "con = None\n",
    "\n",
    "try:    \n",
    "    con = psycopg2.connect(database='testdb', user='samet' , host='/var/run/postgresql/')  \n",
    "    cursor = con.cursor(cursor_factory=psycopg2.extras.DictCursor)\n",
    "    cursor.execute(\"SELECT * FROM Cars\")\n",
    "    \n",
    "    rows = cursor.fetchall()\n",
    "\n",
    "    print rows\n",
    "    print \n",
    "    for row in rows:\n",
    "        print \"%s %s %s\" % (row[\"id\"], row[\"name\"], row[\"price\"])\n",
    "        \n",
    "except psycopg2.DatabaseError, e:\n",
    "    print 'Error %s' % e    \n",
    "    sys.exit(1)        \n",
    "finally:    \n",
    "    if con: con.close()"
   ]
  },
  {
   "cell_type": "markdown",
   "metadata": {},
   "source": [
    "[Home](#home)"
   ]
  },
  {
   "cell_type": "markdown",
   "metadata": {},
   "source": [
    "<a id='6'></a>"
   ]
  },
  {
   "cell_type": "markdown",
   "metadata": {},
   "source": [
    "#### Parameterized Queries"
   ]
  },
  {
   "cell_type": "markdown",
   "metadata": {
    "collapsed": true
   },
   "source": [
    "When parameterized queries are used, placeholders are used instead of directly writing the values into the statements. Parameterized queries increase security and performance. "
   ]
  },
  {
   "cell_type": "code",
   "execution_count": 13,
   "metadata": {
    "collapsed": false
   },
   "outputs": [
    {
     "name": "stdout",
     "output_type": "stream",
     "text": [
      "Number of rows updated: 1\n"
     ]
    }
   ],
   "source": [
    "con = None \n",
    "\n",
    "uId = 1\n",
    "uPrice = 62300 \n",
    "\n",
    "try:     \n",
    "    con = psycopg2.connect(database='testdb', user='samet' , host='/var/run/postgresql/')   \n",
    "    \n",
    "    cur = con.cursor()\n",
    "\n",
    "    cur.execute(\"UPDATE Cars SET Price={} WHERE Id={}\".format(uPrice, uId))        \n",
    "    con.commit()\n",
    "    \n",
    "    print \"Number of rows updated: {}\".format(cur.rowcount)\n",
    "    \n",
    "except psycopg2.DatabaseError, e:    \n",
    "    if con:\n",
    "        con.rollback()    \n",
    "    print 'Error %s' % e    \n",
    "    sys.exit(1)\n",
    "finally:    \n",
    "    if con: con.close()"
   ]
  },
  {
   "cell_type": "code",
   "execution_count": 14,
   "metadata": {
    "collapsed": false
   },
   "outputs": [
    {
     "name": "stdout",
     "output_type": "stream",
     "text": [
      " id | name | price \r\n",
      "----+------+-------\r\n",
      "  1 | Audi | 62300\r\n",
      "(1 row)\r\n",
      "\r\n"
     ]
    }
   ],
   "source": [
    "!psql -c 'SELECT * FROM cars WHERE id=1' testdb"
   ]
  },
  {
   "cell_type": "code",
   "execution_count": 15,
   "metadata": {
    "collapsed": false
   },
   "outputs": [
    {
     "name": "stdout",
     "output_type": "stream",
     "text": [
      "(3, 'Skoda', 9000)\n"
     ]
    }
   ],
   "source": [
    "con = None\n",
    "\n",
    "uid = 3\n",
    "\n",
    "try:    \n",
    "    con = psycopg2.connect(database='testdb', user='samet' , host='/var/run/postgresql/') \n",
    "    \n",
    "    cur = con.cursor()\n",
    "\n",
    "    cur.execute(\"SELECT * FROM Cars WHERE Id=%(id)s\", {'id': uid } )\n",
    "    # a different kind of place holder\n",
    "    print cur.fetchone()\n",
    "\n",
    "except psycopg2.DatabaseError, e:\n",
    "    print 'Error %s' % e    \n",
    "    sys.exit(1)  \n",
    "finally:  \n",
    "    if con: con.close()"
   ]
  },
  {
   "cell_type": "markdown",
   "metadata": {},
   "source": [
    "[Home](#home)"
   ]
  },
  {
   "cell_type": "markdown",
   "metadata": {},
   "source": [
    "<a id='7'></a>"
   ]
  },
  {
   "cell_type": "markdown",
   "metadata": {},
   "source": [
    "#### Metadata"
   ]
  },
  {
   "cell_type": "markdown",
   "metadata": {},
   "source": [
    "Metadata is information about the data in the database. Metadata in a PostgreSQL database contains information about the tables and columns, in which the data is stored. Number of rows affected by an SQL statement is a metadata. Number of rows and columns returned in a result set belong to metadata as well.\n",
    "\n",
    "Metadata in PostgreSQL can be obtained using from the description property of the cursor object or from the information_schema table.\n",
    "\n",
    "Print the contents of the Cars table to the console and include the names of the columns too. The records are aligned with the column names. "
   ]
  },
  {
   "cell_type": "code",
   "execution_count": 16,
   "metadata": {
    "collapsed": false
   },
   "outputs": [
    {
     "name": "stdout",
     "output_type": "stream",
     "text": [
      "id name       price\n",
      " 2 Mercedes   57127\n",
      " 3 Skoda      9000\n",
      " 4 Volvo      29000\n",
      " 5 Bentley    350000\n",
      " 6 Citroen    21000\n",
      " 7 Hummer     41400\n",
      " 8 Volkswagen 21600\n",
      " 1 Audi       62300\n"
     ]
    }
   ],
   "source": [
    "con = None\n",
    "\n",
    "try:\n",
    "    con = psycopg2.connect(database='testdb', user='samet' , host='/var/run/postgresql/')   \n",
    "    \n",
    "    cur = con.cursor()\n",
    "    \n",
    "    cur.execute('SELECT * FROM Cars')\n",
    "    \n",
    "    col_names = [cn[0] for cn in cur.description]\n",
    "    \n",
    "    rows = cur.fetchall()\n",
    "    print \"%s %-10s %s\" % (col_names[0], col_names[1], col_names[2])\n",
    "\n",
    "    for row in rows:    \n",
    "        print \"%2s %-10s %s\" % row\n",
    "    \n",
    "except psycopg2.DatabaseError, e:\n",
    "    print 'Error %s' % e    \n",
    "    sys.exit(1)\n",
    "finally:    \n",
    "    if con: con.close()"
   ]
  },
  {
   "cell_type": "markdown",
   "metadata": {},
   "source": [
    "In the following example all the tables in the testdb database are displayed. "
   ]
  },
  {
   "cell_type": "code",
   "execution_count": 17,
   "metadata": {
    "collapsed": false
   },
   "outputs": [
    {
     "name": "stdout",
     "output_type": "stream",
     "text": [
      "cars\n"
     ]
    }
   ],
   "source": [
    "con = None\n",
    "\n",
    "try:\n",
    "    con = psycopg2.connect(database='testdb', user='samet' , host='/var/run/postgresql/')   \n",
    "    cur = con.cursor() \n",
    "    cur.execute(\"\"\"SELECT table_name FROM information_schema.tables \n",
    "       WHERE table_schema = 'public'\"\"\")    \n",
    "        \n",
    "    rows = cur.fetchall()\n",
    "\n",
    "    for row in rows:\n",
    "        print row[0]\n",
    "        \n",
    "except psycopg2.DatabaseError, e:\n",
    "    print 'Error %s' % e    \n",
    "    sys.exit(1)    \n",
    "finally:\n",
    "    if con: con.close()"
   ]
  },
  {
   "cell_type": "markdown",
   "metadata": {},
   "source": [
    "[Home](#home)"
   ]
  },
  {
   "cell_type": "markdown",
   "metadata": {},
   "source": [
    "<a id='8'></a>"
   ]
  },
  {
   "cell_type": "markdown",
   "metadata": {},
   "source": [
    "#### Export and Import of Data"
   ]
  },
  {
   "cell_type": "markdown",
   "metadata": {},
   "source": [
    "Export and import data by using copy_to() and copy_from() methods.In the below example, the data is copied from the Cars table into the cars file. "
   ]
  },
  {
   "cell_type": "code",
   "execution_count": 18,
   "metadata": {
    "collapsed": true
   },
   "outputs": [],
   "source": [
    "con = None\n",
    "fout = None\n",
    "\n",
    "try:\n",
    "    con = psycopg2.connect(database='testdb', user='samet' , host='/var/run/postgresql/')  \n",
    "    \n",
    "    cur = con.cursor()\n",
    "    fout = open('cars', 'w')\n",
    "    cur.copy_to(fout, 'cars', sep=\"|\")\n",
    "    \n",
    "except psycopg2.DatabaseError, e:\n",
    "    print 'Error %s' % e    \n",
    "    sys.exit(1)\n",
    "except IOError, e:    \n",
    "    print 'Error %s' % e   \n",
    "    sys.exit(1)    \n",
    "finally:\n",
    "    if con: con.close()\n",
    "    if fout: fout.close() "
   ]
  },
  {
   "cell_type": "code",
   "execution_count": 19,
   "metadata": {
    "collapsed": false,
    "scrolled": true
   },
   "outputs": [
    {
     "name": "stdout",
     "output_type": "stream",
     "text": [
      "2|Mercedes|57127\r\n",
      "3|Skoda|9000\r\n",
      "4|Volvo|29000\r\n",
      "5|Bentley|350000\r\n",
      "6|Citroen|21000\r\n",
      "7|Hummer|41400\r\n",
      "8|Volkswagen|21600\r\n",
      "1|Audi|62300\r\n"
     ]
    }
   ],
   "source": [
    "!cat cars"
   ]
  },
  {
   "cell_type": "markdown",
   "metadata": {},
   "source": [
    "Now perform a reverse operation and import the dumped table back into the database table. First, delete the data from the Cars table. "
   ]
  },
  {
   "cell_type": "code",
   "execution_count": 20,
   "metadata": {
    "collapsed": false
   },
   "outputs": [
    {
     "name": "stdout",
     "output_type": "stream",
     "text": [
      "DELETE 8\r\n"
     ]
    }
   ],
   "source": [
    "! psql -c 'DELETE FROM Cars' testdb"
   ]
  },
  {
   "cell_type": "markdown",
   "metadata": {},
   "source": [
    "Read the contents of the cars file and copy it back to the cars table. "
   ]
  },
  {
   "cell_type": "code",
   "execution_count": 21,
   "metadata": {
    "collapsed": true
   },
   "outputs": [],
   "source": [
    "con = None\n",
    "f = None\n",
    "\n",
    "try:   \n",
    "    con = psycopg2.connect(database='testdb', user='samet', host='/var/run/postgresql/') \n",
    "    \n",
    "    cur = con.cursor()\n",
    "    f = open('cars', 'r')\n",
    "    cur.copy_from(f, 'cars', sep=\"|\")                    \n",
    "    con.commit()\n",
    "    \n",
    "except psycopg2.DatabaseError, e:    \n",
    "    if con:\n",
    "        con.rollback()\n",
    "    print 'Error %s' % e    \n",
    "    sys.exit(1)\n",
    "except IOError, e:    \n",
    "    if con:\n",
    "        con.rollback()\n",
    "    print 'Error %s' % e   \n",
    "    sys.exit(1)\n",
    "    \n",
    "finally:\n",
    "    if con: con.close()\n",
    "    if f: f.close()"
   ]
  },
  {
   "cell_type": "markdown",
   "metadata": {},
   "source": [
    "The output shows that the saved Cars table is successfully recreated. "
   ]
  },
  {
   "cell_type": "code",
   "execution_count": 22,
   "metadata": {
    "collapsed": false
   },
   "outputs": [
    {
     "name": "stdout",
     "output_type": "stream",
     "text": [
      " id |    name    | price  \r\n",
      "----+------------+--------\r\n",
      "  2 | Mercedes   |  57127\r\n",
      "  3 | Skoda      |   9000\r\n",
      "  4 | Volvo      |  29000\r\n",
      "  5 | Bentley    | 350000\r\n",
      "  6 | Citroen    |  21000\r\n",
      "  7 | Hummer     |  41400\r\n",
      "  8 | Volkswagen |  21600\r\n",
      "  1 | Audi       |  62300\r\n",
      "(8 rows)\r\n",
      "\r\n"
     ]
    }
   ],
   "source": [
    "! psql -c 'SELECT * FROM Cars;' testdb"
   ]
  },
  {
   "cell_type": "markdown",
   "metadata": {},
   "source": [
    "[Home](#home)"
   ]
  },
  {
   "cell_type": "markdown",
   "metadata": {},
   "source": [
    "<a id='7'></a>"
   ]
  },
  {
   "cell_type": "markdown",
   "metadata": {
    "collapsed": true
   },
   "source": [
    "####"
   ]
  },
  {
   "cell_type": "markdown",
   "metadata": {},
   "source": [
    "[Home](#home)"
   ]
  },
  {
   "cell_type": "markdown",
   "metadata": {},
   "source": [
    "<a id='7'></a>"
   ]
  },
  {
   "cell_type": "markdown",
   "metadata": {
    "collapsed": true
   },
   "source": [
    "####"
   ]
  },
  {
   "cell_type": "markdown",
   "metadata": {},
   "source": [
    "[Home](#home)"
   ]
  },
  {
   "cell_type": "markdown",
   "metadata": {},
   "source": [
    "<a id='7'></a>"
   ]
  },
  {
   "cell_type": "markdown",
   "metadata": {
    "collapsed": true
   },
   "source": [
    "####"
   ]
  },
  {
   "cell_type": "markdown",
   "metadata": {},
   "source": [
    "[Home](#home)"
   ]
  },
  {
   "cell_type": "markdown",
   "metadata": {},
   "source": [
    "<a id='7'></a>"
   ]
  },
  {
   "cell_type": "markdown",
   "metadata": {
    "collapsed": true
   },
   "source": [
    "####"
   ]
  },
  {
   "cell_type": "markdown",
   "metadata": {},
   "source": [
    "[Home](#home)"
   ]
  },
  {
   "cell_type": "markdown",
   "metadata": {},
   "source": [
    "#### References\n",
    "-http://zetcode.com/db/postgresqlpythontutorial/\n",
    "\n",
    "-http://dba.stackexchange.com/questions/4286/list-the-database-privileges-using-psql\n",
    "\n",
    "-https://www.postgresql.org/docs/9.5/static/index.html\n",
    "\n"
   ]
  }
 ],
 "metadata": {
  "kernelspec": {
   "display_name": "Python [Root]",
   "language": "python",
   "name": "Python [Root]"
  },
  "language_info": {
   "codemirror_mode": {
    "name": "ipython",
    "version": 2
   },
   "file_extension": ".py",
   "mimetype": "text/x-python",
   "name": "python",
   "nbconvert_exporter": "python",
   "pygments_lexer": "ipython2",
   "version": "2.7.12"
  }
 },
 "nbformat": 4,
 "nbformat_minor": 0
}
